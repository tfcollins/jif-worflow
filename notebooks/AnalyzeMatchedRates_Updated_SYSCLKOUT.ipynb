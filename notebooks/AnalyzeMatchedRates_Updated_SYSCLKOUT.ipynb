{
 "cells": [
  {
   "cell_type": "markdown",
   "id": "74f91715",
   "metadata": {},
   "source": [
    "# Analysis of matched RX and TX rates across valid ranges\n",
    "\n",
    "This notebook analyzes the link status of samples rates from 100 MHz to 500 MHz, where both the TX and RX rates at the framers are the same. This is primarily looking for issues and/or patherns with the clocking configurations to determine if there are issues with JIF or another component in the system.\n",
    "\n",
    "To scale the sample rate from 100 MHz to 500 MHz, decimators, interpolators, ADC rate, and DAC rate are automatically determine to be within valid ranges.\n",
    "\n",
    "Details of the system:\n",
    "- Hardware: AD9081 + ZCU102\n",
    "- Linux master branch from 3/23/2022\n",
    "- HDL master branch from 3/23/2022\n",
    "- VCXO 122.88 MHz\n",
    "- TX JESD Mode 9, RX JESD Mode 10.00"
   ]
  },
  {
   "cell_type": "code",
   "execution_count": 1,
   "id": "172ff822",
   "metadata": {},
   "outputs": [
    {
     "data": {
      "text/html": [
       "        <script type=\"text/javascript\">\n",
       "        window.PlotlyConfig = {MathJaxConfig: 'local'};\n",
       "        if (window.MathJax) {MathJax.Hub.Config({SVG: {font: \"STIX-Web\"}});}\n",
       "        if (typeof require !== 'undefined') {\n",
       "        require.undef(\"plotly\");\n",
       "        requirejs.config({\n",
       "            paths: {\n",
       "                'plotly': ['https://cdn.plot.ly/plotly-latest.min']\n",
       "            }\n",
       "        });\n",
       "        require(['plotly'], function(Plotly) {\n",
       "            window._Plotly = Plotly;\n",
       "        });\n",
       "        }\n",
       "        </script>\n",
       "        "
      ]
     },
     "metadata": {},
     "output_type": "display_data"
    }
   ],
   "source": [
    "import json\n",
    "import glob\n",
    "import pandas as pd\n",
    "from matplotlib import pyplot as plt\n",
    "import numpy as np\n",
    "#!pip install pyqt5\n",
    "%matplotlib inline\n",
    "\n",
    "from plotly.offline import init_notebook_mode, iplot\n",
    "from plotly.graph_objs import *\n",
    "import plotly.graph_objects as go\n",
    "init_notebook_mode(connected=True)"
   ]
  },
  {
   "cell_type": "markdown",
   "id": "18698077",
   "metadata": {},
   "source": [
    "## Import and filter data to extract desired log fields"
   ]
  },
  {
   "cell_type": "code",
   "execution_count": 2,
   "id": "685d76ae",
   "metadata": {},
   "outputs": [
    {
     "data": {
      "text/html": [
       "<div>\n",
       "<style scoped>\n",
       "    .dataframe tbody tr th:only-of-type {\n",
       "        vertical-align: middle;\n",
       "    }\n",
       "\n",
       "    .dataframe tbody tr th {\n",
       "        vertical-align: top;\n",
       "    }\n",
       "\n",
       "    .dataframe thead th {\n",
       "        text-align: right;\n",
       "    }\n",
       "</style>\n",
       "<table border=\"1\" class=\"dataframe\">\n",
       "  <thead>\n",
       "    <tr style=\"text-align: right;\">\n",
       "      <th></th>\n",
       "      <th>status</th>\n",
       "      <th>rx_lane_rate</th>\n",
       "      <th>tx_lane_rate</th>\n",
       "      <th>rx_sample_rate</th>\n",
       "      <th>tx_sample_rate</th>\n",
       "      <th>DAC_freq</th>\n",
       "      <th>ADC_freq</th>\n",
       "      <th>fddc</th>\n",
       "      <th>cddc</th>\n",
       "      <th>fduc</th>\n",
       "      <th>cduc</th>\n",
       "      <th>rx_link_status</th>\n",
       "      <th>tx_link_status</th>\n",
       "      <th>rx_link_state</th>\n",
       "      <th>tx_link_state</th>\n",
       "      <th>out_dividers</th>\n",
       "      <th>84a90000.axi-jesd204-rx</th>\n",
       "      <th>84b90000.axi-jesd204-tx</th>\n",
       "    </tr>\n",
       "  </thead>\n",
       "  <tbody>\n",
       "    <tr>\n",
       "      <th>0</th>\n",
       "      <td>failed</td>\n",
       "      <td>1.400000e+10</td>\n",
       "      <td>1.400000e+10</td>\n",
       "      <td>350000000</td>\n",
       "      <td>350000000</td>\n",
       "      <td>5600000000</td>\n",
       "      <td>2800000000</td>\n",
       "      <td>4</td>\n",
       "      <td>2</td>\n",
       "      <td>8</td>\n",
       "      <td>2</td>\n",
       "      <td>False</td>\n",
       "      <td>True</td>\n",
       "      <td>CGS</td>\n",
       "      <td>DATA</td>\n",
       "      <td>4 / 4 / 5 / 256 / 256</td>\n",
       "      <td>enabled</td>\n",
       "      <td>enabled</td>\n",
       "    </tr>\n",
       "    <tr>\n",
       "      <th>113</th>\n",
       "      <td>failed</td>\n",
       "      <td>7.280000e+09</td>\n",
       "      <td>7.280000e+09</td>\n",
       "      <td>182000000</td>\n",
       "      <td>182000000</td>\n",
       "      <td>2912000000</td>\n",
       "      <td>1456000000</td>\n",
       "      <td>4</td>\n",
       "      <td>2</td>\n",
       "      <td>8</td>\n",
       "      <td>2</td>\n",
       "      <td>False</td>\n",
       "      <td>True</td>\n",
       "      <td>CGS</td>\n",
       "      <td>DATA</td>\n",
       "      <td>4 / 5 / 8 / 512 / 512</td>\n",
       "      <td>enabled</td>\n",
       "      <td>enabled</td>\n",
       "    </tr>\n",
       "    <tr>\n",
       "      <th>112</th>\n",
       "      <td>failed</td>\n",
       "      <td>6.640000e+09</td>\n",
       "      <td>6.640000e+09</td>\n",
       "      <td>166000000</td>\n",
       "      <td>166000000</td>\n",
       "      <td>3984000000</td>\n",
       "      <td>1992000000</td>\n",
       "      <td>6</td>\n",
       "      <td>2</td>\n",
       "      <td>6</td>\n",
       "      <td>4</td>\n",
       "      <td>False</td>\n",
       "      <td>True</td>\n",
       "      <td>CGS</td>\n",
       "      <td>DATA</td>\n",
       "      <td>4 / 5 / 8 / 512 / 512</td>\n",
       "      <td>enabled</td>\n",
       "      <td>enabled</td>\n",
       "    </tr>\n",
       "    <tr>\n",
       "      <th>105</th>\n",
       "      <td>failed</td>\n",
       "      <td>7.440000e+09</td>\n",
       "      <td>7.440000e+09</td>\n",
       "      <td>186000000</td>\n",
       "      <td>186000000</td>\n",
       "      <td>2976000000</td>\n",
       "      <td>1488000000</td>\n",
       "      <td>4</td>\n",
       "      <td>2</td>\n",
       "      <td>8</td>\n",
       "      <td>2</td>\n",
       "      <td>False</td>\n",
       "      <td>True</td>\n",
       "      <td>CGS</td>\n",
       "      <td>DATA</td>\n",
       "      <td>4 / 5 / 8 / 512 / 512</td>\n",
       "      <td>enabled</td>\n",
       "      <td>enabled</td>\n",
       "    </tr>\n",
       "    <tr>\n",
       "      <th>103</th>\n",
       "      <td>failed</td>\n",
       "      <td>1.428000e+10</td>\n",
       "      <td>1.428000e+10</td>\n",
       "      <td>357000000</td>\n",
       "      <td>357000000</td>\n",
       "      <td>5712000000</td>\n",
       "      <td>2856000000</td>\n",
       "      <td>4</td>\n",
       "      <td>2</td>\n",
       "      <td>8</td>\n",
       "      <td>2</td>\n",
       "      <td>False</td>\n",
       "      <td>True</td>\n",
       "      <td>CGS</td>\n",
       "      <td>DATA</td>\n",
       "      <td>4 / 4 / 5 / 256 / 256</td>\n",
       "      <td>enabled</td>\n",
       "      <td>enabled</td>\n",
       "    </tr>\n",
       "    <tr>\n",
       "      <th>...</th>\n",
       "      <td>...</td>\n",
       "      <td>...</td>\n",
       "      <td>...</td>\n",
       "      <td>...</td>\n",
       "      <td>...</td>\n",
       "      <td>...</td>\n",
       "      <td>...</td>\n",
       "      <td>...</td>\n",
       "      <td>...</td>\n",
       "      <td>...</td>\n",
       "      <td>...</td>\n",
       "      <td>...</td>\n",
       "      <td>...</td>\n",
       "      <td>...</td>\n",
       "      <td>...</td>\n",
       "      <td>...</td>\n",
       "      <td>...</td>\n",
       "      <td>...</td>\n",
       "    </tr>\n",
       "    <tr>\n",
       "      <th>115</th>\n",
       "      <td>passed</td>\n",
       "      <td>1.352000e+10</td>\n",
       "      <td>1.352000e+10</td>\n",
       "      <td>338000000</td>\n",
       "      <td>338000000</td>\n",
       "      <td>5408000000</td>\n",
       "      <td>2704000000</td>\n",
       "      <td>4</td>\n",
       "      <td>2</td>\n",
       "      <td>8</td>\n",
       "      <td>2</td>\n",
       "      <td>True</td>\n",
       "      <td>True</td>\n",
       "      <td>DATA</td>\n",
       "      <td>DATA</td>\n",
       "      <td>4 / 4 / 5 / 256 / 256</td>\n",
       "      <td>enabled</td>\n",
       "      <td>enabled</td>\n",
       "    </tr>\n",
       "    <tr>\n",
       "      <th>33</th>\n",
       "      <td>passed</td>\n",
       "      <td>5.680000e+09</td>\n",
       "      <td>5.680000e+09</td>\n",
       "      <td>142000000</td>\n",
       "      <td>142000000</td>\n",
       "      <td>3408000000</td>\n",
       "      <td>1704000000</td>\n",
       "      <td>6</td>\n",
       "      <td>2</td>\n",
       "      <td>6</td>\n",
       "      <td>4</td>\n",
       "      <td>True</td>\n",
       "      <td>True</td>\n",
       "      <td>DATA</td>\n",
       "      <td>DATA</td>\n",
       "      <td>4 / 10 / 50 / 640 / 640</td>\n",
       "      <td>enabled</td>\n",
       "      <td>enabled</td>\n",
       "    </tr>\n",
       "    <tr>\n",
       "      <th>35</th>\n",
       "      <td>passed</td>\n",
       "      <td>1.136000e+10</td>\n",
       "      <td>1.136000e+10</td>\n",
       "      <td>284000000</td>\n",
       "      <td>284000000</td>\n",
       "      <td>4544000000</td>\n",
       "      <td>2272000000</td>\n",
       "      <td>4</td>\n",
       "      <td>2</td>\n",
       "      <td>8</td>\n",
       "      <td>2</td>\n",
       "      <td>True</td>\n",
       "      <td>True</td>\n",
       "      <td>DATA</td>\n",
       "      <td>DATA</td>\n",
       "      <td>4 / 5 / 50 / 320 / 320</td>\n",
       "      <td>enabled</td>\n",
       "      <td>enabled</td>\n",
       "    </tr>\n",
       "    <tr>\n",
       "      <th>126</th>\n",
       "      <td>passed</td>\n",
       "      <td>5.920000e+09</td>\n",
       "      <td>5.920000e+09</td>\n",
       "      <td>148000000</td>\n",
       "      <td>148000000</td>\n",
       "      <td>3552000000</td>\n",
       "      <td>1776000000</td>\n",
       "      <td>6</td>\n",
       "      <td>2</td>\n",
       "      <td>6</td>\n",
       "      <td>4</td>\n",
       "      <td>True</td>\n",
       "      <td>True</td>\n",
       "      <td>DATA</td>\n",
       "      <td>DATA</td>\n",
       "      <td>4 / 10 / 50 / 640 / 640</td>\n",
       "      <td>enabled</td>\n",
       "      <td>enabled</td>\n",
       "    </tr>\n",
       "    <tr>\n",
       "      <th>200</th>\n",
       "      <td>passed</td>\n",
       "      <td>1.124000e+10</td>\n",
       "      <td>1.124000e+10</td>\n",
       "      <td>281000000</td>\n",
       "      <td>281000000</td>\n",
       "      <td>4496000000</td>\n",
       "      <td>2248000000</td>\n",
       "      <td>4</td>\n",
       "      <td>2</td>\n",
       "      <td>8</td>\n",
       "      <td>2</td>\n",
       "      <td>True</td>\n",
       "      <td>True</td>\n",
       "      <td>DATA</td>\n",
       "      <td>DATA</td>\n",
       "      <td>4 / 5 / 50 / 320 / 320</td>\n",
       "      <td>enabled</td>\n",
       "      <td>enabled</td>\n",
       "    </tr>\n",
       "  </tbody>\n",
       "</table>\n",
       "<p>201 rows × 18 columns</p>\n",
       "</div>"
      ],
      "text/plain": [
       "     status  rx_lane_rate  tx_lane_rate  rx_sample_rate  tx_sample_rate  \\\n",
       "0    failed  1.400000e+10  1.400000e+10       350000000       350000000   \n",
       "113  failed  7.280000e+09  7.280000e+09       182000000       182000000   \n",
       "112  failed  6.640000e+09  6.640000e+09       166000000       166000000   \n",
       "105  failed  7.440000e+09  7.440000e+09       186000000       186000000   \n",
       "103  failed  1.428000e+10  1.428000e+10       357000000       357000000   \n",
       "..      ...           ...           ...             ...             ...   \n",
       "115  passed  1.352000e+10  1.352000e+10       338000000       338000000   \n",
       "33   passed  5.680000e+09  5.680000e+09       142000000       142000000   \n",
       "35   passed  1.136000e+10  1.136000e+10       284000000       284000000   \n",
       "126  passed  5.920000e+09  5.920000e+09       148000000       148000000   \n",
       "200  passed  1.124000e+10  1.124000e+10       281000000       281000000   \n",
       "\n",
       "       DAC_freq    ADC_freq  fddc  cddc  fduc  cduc  rx_link_status  \\\n",
       "0    5600000000  2800000000     4     2     8     2           False   \n",
       "113  2912000000  1456000000     4     2     8     2           False   \n",
       "112  3984000000  1992000000     6     2     6     4           False   \n",
       "105  2976000000  1488000000     4     2     8     2           False   \n",
       "103  5712000000  2856000000     4     2     8     2           False   \n",
       "..          ...         ...   ...   ...   ...   ...             ...   \n",
       "115  5408000000  2704000000     4     2     8     2            True   \n",
       "33   3408000000  1704000000     6     2     6     4            True   \n",
       "35   4544000000  2272000000     4     2     8     2            True   \n",
       "126  3552000000  1776000000     6     2     6     4            True   \n",
       "200  4496000000  2248000000     4     2     8     2            True   \n",
       "\n",
       "     tx_link_status rx_link_state tx_link_state              out_dividers  \\\n",
       "0              True           CGS          DATA     4 / 4 / 5 / 256 / 256   \n",
       "113            True           CGS          DATA     4 / 5 / 8 / 512 / 512   \n",
       "112            True           CGS          DATA     4 / 5 / 8 / 512 / 512   \n",
       "105            True           CGS          DATA     4 / 5 / 8 / 512 / 512   \n",
       "103            True           CGS          DATA     4 / 4 / 5 / 256 / 256   \n",
       "..              ...           ...           ...                       ...   \n",
       "115            True          DATA          DATA     4 / 4 / 5 / 256 / 256   \n",
       "33             True          DATA          DATA   4 / 10 / 50 / 640 / 640   \n",
       "35             True          DATA          DATA    4 / 5 / 50 / 320 / 320   \n",
       "126            True          DATA          DATA   4 / 10 / 50 / 640 / 640   \n",
       "200            True          DATA          DATA    4 / 5 / 50 / 320 / 320   \n",
       "\n",
       "    84a90000.axi-jesd204-rx 84b90000.axi-jesd204-tx  \n",
       "0                   enabled                 enabled  \n",
       "113                 enabled                 enabled  \n",
       "112                 enabled                 enabled  \n",
       "105                 enabled                 enabled  \n",
       "103                 enabled                 enabled  \n",
       "..                      ...                     ...  \n",
       "115                 enabled                 enabled  \n",
       "33                  enabled                 enabled  \n",
       "35                  enabled                 enabled  \n",
       "126                 enabled                 enabled  \n",
       "200                 enabled                 enabled  \n",
       "\n",
       "[201 rows x 18 columns]"
      ]
     },
     "execution_count": 2,
     "metadata": {},
     "output_type": "execute_result"
    }
   ],
   "source": [
    "files = glob.glob(\"logs/ad9081_100_1_500_04122022/*.json\")\n",
    "\n",
    "results = []\n",
    "for file in files:\n",
    "    with open(file) as f:\n",
    "        data_ref = json.load(f)\n",
    "        data = {}\n",
    "        if 'cfg' not in data_ref:\n",
    "            continue\n",
    "        if 'jdevices_statuses' not in data_ref:\n",
    "            continue\n",
    "        data['status'] = data_ref['status']\n",
    "        data['rx_lane_rate'] = data_ref['cfg']['jesd_adc']['bit_clock']\n",
    "        data['tx_lane_rate'] = data_ref['cfg']['jesd_dac']['bit_clock']\n",
    "        data['rx_sample_rate'] = data_ref['cfg']['jesd_adc']['sample_clock']\n",
    "        data['tx_sample_rate'] = data_ref['cfg']['jesd_dac']['sample_clock']\n",
    "        data['DAC_freq'] = data_ref['param_set']['DAC_freq']\n",
    "        for k in data_ref['param_set']:\n",
    "            data[k] = data_ref['param_set'][k]\n",
    "\n",
    "        ks = data_ref['jdevices_statuses'].keys()\n",
    "        data['rx_link_status'] = data_ref['jdevices_statuses']['84a90000.axi-jesd204-rx']['Link status'] == \"DATA\"\n",
    "        data['tx_link_status'] = data_ref['jdevices_statuses']['84b90000.axi-jesd204-tx']['Link status'] == \"DATA\"\n",
    "        data['rx_link_state'] = data_ref['jdevices_statuses']['84a90000.axi-jesd204-rx']['Link status']\n",
    "        data['tx_link_state'] = data_ref['jdevices_statuses']['84b90000.axi-jesd204-tx']['Link status']\n",
    "        # Merge clock dividers\n",
    "        od = data_ref['cfg']['clock']['out_dividers']\n",
    "        od.sort()\n",
    "        ods = ''\n",
    "        for i, k in enumerate(od):\n",
    "            ods += f\" / {k}\"\n",
    "\n",
    "        data[f\"out_dividers\"] = ods[2:]\n",
    "            \n",
    "        if 'jdevices_statuses' in data_ref:\n",
    "            ks = list(data_ref['jdevices_statuses'].keys())\n",
    "            data[ks[0]] = data_ref['jdevices_statuses'][ks[0]]['enabled']\n",
    "            data[ks[1]] = data_ref['jdevices_statuses'][ks[1]]['enabled']\n",
    "    results.append(data)\n",
    "\n",
    "# print(results[0].keys())\n",
    "df = pd.DataFrame(results, columns=results[0].keys())\n",
    "df.sort_values(by=['status'])"
   ]
  },
  {
   "cell_type": "markdown",
   "id": "594c5a07",
   "metadata": {},
   "source": [
    "## Plots of Link Enabled Pass/Fail at Boot"
   ]
  },
  {
   "cell_type": "code",
   "execution_count": 3,
   "id": "92aecd5f",
   "metadata": {},
   "outputs": [],
   "source": [
    "# Plot pass/fail over frequency\n",
    "results = df[['status','rx_sample_rate','ADC_freq','DAC_freq','rx_link_status','tx_link_status','rx_link_state','tx_link_state']]\n",
    "results_ref = results.copy()\n",
    "## TX\n",
    "pc = pd.DataFrame([True]*len(results['status']),columns=['passed'])\n",
    "choices = [1,0]\n",
    "conditions = [results['tx_link_status'] == pc['passed'],results['tx_link_status'] != pc['passed']]\n",
    "\n",
    "out = list(np.select(conditions, choices))\n",
    "results_tx = results.assign(passed = out);\n",
    "results_tx.sort_values(by=['rx_sample_rate'], inplace=True)\n",
    "## RX\n",
    "results = results_ref.copy()\n",
    "pc = pd.DataFrame([True]*len(results['status']),columns=['passed'])\n",
    "choices = [1,0]\n",
    "conditions = [results['rx_link_status'] == pc['passed'],results['rx_link_status'] != pc['passed']]\n",
    "\n",
    "out = list(np.select(conditions, choices))\n",
    "results_rx = results.assign(passed = out);\n",
    "results_rx.sort_values(by=['rx_sample_rate'], inplace=True)\n"
   ]
  },
  {
   "cell_type": "code",
   "execution_count": 4,
   "id": "f01aeea6",
   "metadata": {},
   "outputs": [
    {
     "data": {
      "application/vnd.plotly.v1+json": {
       "config": {
        "linkText": "Export to plot.ly",
        "plotlyServerURL": "https://plot.ly",
        "showLink": false
       },
       "data": [
        {
         "name": "TX LINK",
         "type": "scatter",
         "x": [
          100000000,
          101000000,
          102000000,
          128000000,
          130000000,
          132000000,
          134000000,
          135000000,
          136000000,
          137000000,
          138000000,
          139000000,
          140000000,
          141000000,
          142000000,
          143000000,
          144000000,
          145000000,
          146000000,
          147000000,
          148000000,
          149000000,
          150000000,
          151000000,
          152000000,
          153000000,
          154000000,
          156000000,
          157000000,
          159000000,
          160000000,
          161000000,
          162000000,
          163000000,
          164000000,
          165000000,
          166000000,
          167000000,
          168000000,
          169000000,
          170000000,
          171000000,
          172000000,
          173000000,
          174000000,
          175000000,
          176000000,
          177000000,
          178000000,
          179000000,
          180000000,
          181000000,
          182000000,
          183000000,
          184000000,
          185000000,
          186000000,
          187000000,
          188000000,
          189000000,
          190000000,
          191000000,
          192000000,
          193000000,
          194000000,
          195000000,
          196000000,
          197000000,
          198000000,
          199000000,
          201000000,
          202000000,
          203000000,
          204000000,
          245000000,
          247000000,
          256000000,
          263000000,
          264000000,
          265000000,
          266000000,
          267000000,
          268000000,
          269000000,
          270000000,
          271000000,
          272000000,
          273000000,
          274000000,
          275000000,
          276000000,
          277000000,
          278000000,
          279000000,
          280000000,
          281000000,
          282000000,
          283000000,
          284000000,
          285000000,
          286000000,
          287000000,
          288000000,
          289000000,
          290000000,
          291000000,
          292000000,
          293000000,
          294000000,
          295000000,
          296000000,
          297000000,
          298000000,
          299000000,
          308000000,
          309000000,
          310000000,
          314000000,
          315000000,
          316000000,
          318000000,
          320000000,
          321000000,
          322000000,
          323000000,
          324000000,
          325000000,
          326000000,
          327000000,
          328000000,
          329000000,
          330000000,
          331000000,
          332000000,
          333000000,
          334000000,
          335000000,
          336000000,
          337000000,
          338000000,
          339000000,
          340000000,
          341000000,
          342000000,
          343000000,
          344000000,
          345000000,
          346000000,
          347000000,
          348000000,
          349000000,
          350000000,
          351000000,
          352000000,
          353000000,
          354000000,
          355000000,
          356000000,
          357000000,
          358000000,
          359000000,
          360000000,
          361000000,
          362000000,
          363000000,
          364000000,
          365000000,
          366000000,
          367000000,
          368000000,
          369000000,
          370000000,
          371000000,
          372000000,
          373000000,
          374000000,
          375000000,
          376000000,
          377000000,
          378000000,
          379000000,
          380000000,
          381000000,
          382000000,
          383000000,
          384000000,
          385000000,
          386000000,
          387000000,
          388000000,
          389000000,
          390000000,
          391000000,
          392000000,
          393000000,
          394000000,
          395000000,
          396000000,
          397000000,
          398000000,
          399000000
         ],
         "y": [
          1,
          1,
          1,
          1,
          1,
          1,
          1,
          1,
          1,
          1,
          1,
          1,
          1,
          1,
          1,
          1,
          1,
          1,
          1,
          1,
          1,
          1,
          1,
          1,
          1,
          1,
          1,
          1,
          1,
          1,
          1,
          1,
          1,
          1,
          1,
          1,
          1,
          1,
          1,
          1,
          1,
          1,
          1,
          1,
          1,
          1,
          1,
          1,
          1,
          1,
          1,
          1,
          1,
          1,
          1,
          1,
          1,
          1,
          1,
          1,
          1,
          1,
          1,
          1,
          1,
          1,
          1,
          1,
          1,
          1,
          1,
          1,
          1,
          1,
          1,
          1,
          1,
          1,
          1,
          1,
          1,
          1,
          1,
          1,
          1,
          1,
          1,
          1,
          1,
          1,
          1,
          1,
          1,
          1,
          1,
          1,
          1,
          1,
          1,
          1,
          1,
          1,
          1,
          1,
          1,
          1,
          1,
          1,
          1,
          1,
          1,
          1,
          1,
          1,
          1,
          1,
          1,
          1,
          1,
          1,
          1,
          1,
          1,
          1,
          1,
          1,
          1,
          1,
          1,
          1,
          1,
          1,
          1,
          1,
          1,
          1,
          1,
          1,
          1,
          1,
          1,
          1,
          1,
          1,
          1,
          1,
          1,
          1,
          1,
          1,
          1,
          1,
          1,
          1,
          1,
          1,
          1,
          1,
          1,
          1,
          1,
          1,
          1,
          1,
          1,
          1,
          1,
          1,
          1,
          1,
          1,
          1,
          1,
          1,
          1,
          1,
          1,
          1,
          1,
          1,
          1,
          1,
          1,
          1,
          1,
          1,
          1,
          1,
          1,
          1,
          1,
          1,
          1,
          1,
          1,
          1,
          1,
          1,
          1,
          1,
          1
         ]
        },
        {
         "name": "RX LINK",
         "type": "scatter",
         "x": [
          100000000,
          101000000,
          102000000,
          128000000,
          130000000,
          132000000,
          134000000,
          135000000,
          136000000,
          137000000,
          138000000,
          139000000,
          140000000,
          141000000,
          142000000,
          143000000,
          144000000,
          145000000,
          146000000,
          147000000,
          148000000,
          149000000,
          150000000,
          151000000,
          152000000,
          153000000,
          154000000,
          156000000,
          157000000,
          159000000,
          160000000,
          161000000,
          162000000,
          163000000,
          164000000,
          165000000,
          166000000,
          167000000,
          168000000,
          169000000,
          170000000,
          171000000,
          172000000,
          173000000,
          174000000,
          175000000,
          176000000,
          177000000,
          178000000,
          179000000,
          180000000,
          181000000,
          182000000,
          183000000,
          184000000,
          185000000,
          186000000,
          187000000,
          188000000,
          189000000,
          190000000,
          191000000,
          192000000,
          193000000,
          194000000,
          195000000,
          196000000,
          197000000,
          198000000,
          199000000,
          201000000,
          202000000,
          203000000,
          204000000,
          245000000,
          247000000,
          256000000,
          263000000,
          264000000,
          265000000,
          266000000,
          267000000,
          268000000,
          269000000,
          270000000,
          271000000,
          272000000,
          273000000,
          274000000,
          275000000,
          276000000,
          277000000,
          278000000,
          279000000,
          280000000,
          281000000,
          282000000,
          283000000,
          284000000,
          285000000,
          286000000,
          287000000,
          288000000,
          289000000,
          290000000,
          291000000,
          292000000,
          293000000,
          294000000,
          295000000,
          296000000,
          297000000,
          298000000,
          299000000,
          308000000,
          309000000,
          310000000,
          314000000,
          315000000,
          316000000,
          318000000,
          320000000,
          321000000,
          322000000,
          323000000,
          324000000,
          325000000,
          326000000,
          327000000,
          328000000,
          329000000,
          330000000,
          331000000,
          332000000,
          333000000,
          334000000,
          335000000,
          336000000,
          337000000,
          338000000,
          339000000,
          340000000,
          341000000,
          342000000,
          343000000,
          344000000,
          345000000,
          346000000,
          347000000,
          348000000,
          349000000,
          350000000,
          351000000,
          352000000,
          353000000,
          354000000,
          355000000,
          356000000,
          357000000,
          358000000,
          359000000,
          360000000,
          361000000,
          362000000,
          363000000,
          364000000,
          365000000,
          366000000,
          367000000,
          368000000,
          369000000,
          370000000,
          371000000,
          372000000,
          373000000,
          374000000,
          375000000,
          376000000,
          377000000,
          378000000,
          379000000,
          380000000,
          381000000,
          382000000,
          383000000,
          384000000,
          385000000,
          386000000,
          387000000,
          388000000,
          389000000,
          390000000,
          391000000,
          392000000,
          393000000,
          394000000,
          395000000,
          396000000,
          397000000,
          398000000,
          399000000
         ],
         "y": [
          0,
          0,
          0,
          1,
          1,
          1,
          1,
          1,
          1,
          1,
          1,
          1,
          1,
          1,
          1,
          1,
          1,
          1,
          1,
          1,
          1,
          1,
          1,
          1,
          1,
          1,
          1,
          1,
          1,
          1,
          1,
          1,
          1,
          0,
          1,
          1,
          0,
          0,
          0,
          0,
          0,
          0,
          0,
          0,
          0,
          0,
          0,
          0,
          0,
          0,
          0,
          0,
          0,
          0,
          0,
          0,
          0,
          0,
          0,
          0,
          0,
          0,
          0,
          0,
          0,
          0,
          0,
          0,
          0,
          0,
          0,
          0,
          0,
          0,
          1,
          1,
          1,
          1,
          1,
          1,
          1,
          1,
          1,
          1,
          1,
          1,
          1,
          1,
          1,
          1,
          1,
          1,
          1,
          1,
          1,
          1,
          1,
          1,
          1,
          1,
          1,
          1,
          1,
          1,
          1,
          1,
          1,
          1,
          1,
          1,
          1,
          1,
          1,
          1,
          1,
          1,
          1,
          1,
          1,
          1,
          1,
          1,
          1,
          1,
          1,
          1,
          1,
          1,
          1,
          1,
          1,
          1,
          1,
          1,
          1,
          1,
          1,
          1,
          1,
          1,
          1,
          0,
          0,
          1,
          1,
          0,
          0,
          0,
          0,
          0,
          0,
          0,
          0,
          0,
          0,
          0,
          0,
          0,
          0,
          0,
          0,
          0,
          0,
          0,
          0,
          0,
          0,
          0,
          0,
          0,
          0,
          0,
          0,
          0,
          0,
          0,
          0,
          0,
          0,
          0,
          0,
          0,
          0,
          0,
          0,
          0,
          0,
          0,
          0,
          0,
          0,
          0,
          0,
          0,
          0,
          0,
          0,
          0,
          0,
          0,
          0
         ]
        }
       ],
       "layout": {
        "template": {
         "data": {
          "bar": [
           {
            "error_x": {
             "color": "#2a3f5f"
            },
            "error_y": {
             "color": "#2a3f5f"
            },
            "marker": {
             "line": {
              "color": "#E5ECF6",
              "width": 0.5
             }
            },
            "type": "bar"
           }
          ],
          "barpolar": [
           {
            "marker": {
             "line": {
              "color": "#E5ECF6",
              "width": 0.5
             }
            },
            "type": "barpolar"
           }
          ],
          "carpet": [
           {
            "aaxis": {
             "endlinecolor": "#2a3f5f",
             "gridcolor": "white",
             "linecolor": "white",
             "minorgridcolor": "white",
             "startlinecolor": "#2a3f5f"
            },
            "baxis": {
             "endlinecolor": "#2a3f5f",
             "gridcolor": "white",
             "linecolor": "white",
             "minorgridcolor": "white",
             "startlinecolor": "#2a3f5f"
            },
            "type": "carpet"
           }
          ],
          "choropleth": [
           {
            "colorbar": {
             "outlinewidth": 0,
             "ticks": ""
            },
            "type": "choropleth"
           }
          ],
          "contour": [
           {
            "colorbar": {
             "outlinewidth": 0,
             "ticks": ""
            },
            "colorscale": [
             [
              0,
              "#0d0887"
             ],
             [
              0.1111111111111111,
              "#46039f"
             ],
             [
              0.2222222222222222,
              "#7201a8"
             ],
             [
              0.3333333333333333,
              "#9c179e"
             ],
             [
              0.4444444444444444,
              "#bd3786"
             ],
             [
              0.5555555555555556,
              "#d8576b"
             ],
             [
              0.6666666666666666,
              "#ed7953"
             ],
             [
              0.7777777777777778,
              "#fb9f3a"
             ],
             [
              0.8888888888888888,
              "#fdca26"
             ],
             [
              1,
              "#f0f921"
             ]
            ],
            "type": "contour"
           }
          ],
          "contourcarpet": [
           {
            "colorbar": {
             "outlinewidth": 0,
             "ticks": ""
            },
            "type": "contourcarpet"
           }
          ],
          "heatmap": [
           {
            "colorbar": {
             "outlinewidth": 0,
             "ticks": ""
            },
            "colorscale": [
             [
              0,
              "#0d0887"
             ],
             [
              0.1111111111111111,
              "#46039f"
             ],
             [
              0.2222222222222222,
              "#7201a8"
             ],
             [
              0.3333333333333333,
              "#9c179e"
             ],
             [
              0.4444444444444444,
              "#bd3786"
             ],
             [
              0.5555555555555556,
              "#d8576b"
             ],
             [
              0.6666666666666666,
              "#ed7953"
             ],
             [
              0.7777777777777778,
              "#fb9f3a"
             ],
             [
              0.8888888888888888,
              "#fdca26"
             ],
             [
              1,
              "#f0f921"
             ]
            ],
            "type": "heatmap"
           }
          ],
          "heatmapgl": [
           {
            "colorbar": {
             "outlinewidth": 0,
             "ticks": ""
            },
            "colorscale": [
             [
              0,
              "#0d0887"
             ],
             [
              0.1111111111111111,
              "#46039f"
             ],
             [
              0.2222222222222222,
              "#7201a8"
             ],
             [
              0.3333333333333333,
              "#9c179e"
             ],
             [
              0.4444444444444444,
              "#bd3786"
             ],
             [
              0.5555555555555556,
              "#d8576b"
             ],
             [
              0.6666666666666666,
              "#ed7953"
             ],
             [
              0.7777777777777778,
              "#fb9f3a"
             ],
             [
              0.8888888888888888,
              "#fdca26"
             ],
             [
              1,
              "#f0f921"
             ]
            ],
            "type": "heatmapgl"
           }
          ],
          "histogram": [
           {
            "marker": {
             "colorbar": {
              "outlinewidth": 0,
              "ticks": ""
             }
            },
            "type": "histogram"
           }
          ],
          "histogram2d": [
           {
            "colorbar": {
             "outlinewidth": 0,
             "ticks": ""
            },
            "colorscale": [
             [
              0,
              "#0d0887"
             ],
             [
              0.1111111111111111,
              "#46039f"
             ],
             [
              0.2222222222222222,
              "#7201a8"
             ],
             [
              0.3333333333333333,
              "#9c179e"
             ],
             [
              0.4444444444444444,
              "#bd3786"
             ],
             [
              0.5555555555555556,
              "#d8576b"
             ],
             [
              0.6666666666666666,
              "#ed7953"
             ],
             [
              0.7777777777777778,
              "#fb9f3a"
             ],
             [
              0.8888888888888888,
              "#fdca26"
             ],
             [
              1,
              "#f0f921"
             ]
            ],
            "type": "histogram2d"
           }
          ],
          "histogram2dcontour": [
           {
            "colorbar": {
             "outlinewidth": 0,
             "ticks": ""
            },
            "colorscale": [
             [
              0,
              "#0d0887"
             ],
             [
              0.1111111111111111,
              "#46039f"
             ],
             [
              0.2222222222222222,
              "#7201a8"
             ],
             [
              0.3333333333333333,
              "#9c179e"
             ],
             [
              0.4444444444444444,
              "#bd3786"
             ],
             [
              0.5555555555555556,
              "#d8576b"
             ],
             [
              0.6666666666666666,
              "#ed7953"
             ],
             [
              0.7777777777777778,
              "#fb9f3a"
             ],
             [
              0.8888888888888888,
              "#fdca26"
             ],
             [
              1,
              "#f0f921"
             ]
            ],
            "type": "histogram2dcontour"
           }
          ],
          "mesh3d": [
           {
            "colorbar": {
             "outlinewidth": 0,
             "ticks": ""
            },
            "type": "mesh3d"
           }
          ],
          "parcoords": [
           {
            "line": {
             "colorbar": {
              "outlinewidth": 0,
              "ticks": ""
             }
            },
            "type": "parcoords"
           }
          ],
          "pie": [
           {
            "automargin": true,
            "type": "pie"
           }
          ],
          "scatter": [
           {
            "marker": {
             "colorbar": {
              "outlinewidth": 0,
              "ticks": ""
             }
            },
            "type": "scatter"
           }
          ],
          "scatter3d": [
           {
            "line": {
             "colorbar": {
              "outlinewidth": 0,
              "ticks": ""
             }
            },
            "marker": {
             "colorbar": {
              "outlinewidth": 0,
              "ticks": ""
             }
            },
            "type": "scatter3d"
           }
          ],
          "scattercarpet": [
           {
            "marker": {
             "colorbar": {
              "outlinewidth": 0,
              "ticks": ""
             }
            },
            "type": "scattercarpet"
           }
          ],
          "scattergeo": [
           {
            "marker": {
             "colorbar": {
              "outlinewidth": 0,
              "ticks": ""
             }
            },
            "type": "scattergeo"
           }
          ],
          "scattergl": [
           {
            "marker": {
             "colorbar": {
              "outlinewidth": 0,
              "ticks": ""
             }
            },
            "type": "scattergl"
           }
          ],
          "scattermapbox": [
           {
            "marker": {
             "colorbar": {
              "outlinewidth": 0,
              "ticks": ""
             }
            },
            "type": "scattermapbox"
           }
          ],
          "scatterpolar": [
           {
            "marker": {
             "colorbar": {
              "outlinewidth": 0,
              "ticks": ""
             }
            },
            "type": "scatterpolar"
           }
          ],
          "scatterpolargl": [
           {
            "marker": {
             "colorbar": {
              "outlinewidth": 0,
              "ticks": ""
             }
            },
            "type": "scatterpolargl"
           }
          ],
          "scatterternary": [
           {
            "marker": {
             "colorbar": {
              "outlinewidth": 0,
              "ticks": ""
             }
            },
            "type": "scatterternary"
           }
          ],
          "surface": [
           {
            "colorbar": {
             "outlinewidth": 0,
             "ticks": ""
            },
            "colorscale": [
             [
              0,
              "#0d0887"
             ],
             [
              0.1111111111111111,
              "#46039f"
             ],
             [
              0.2222222222222222,
              "#7201a8"
             ],
             [
              0.3333333333333333,
              "#9c179e"
             ],
             [
              0.4444444444444444,
              "#bd3786"
             ],
             [
              0.5555555555555556,
              "#d8576b"
             ],
             [
              0.6666666666666666,
              "#ed7953"
             ],
             [
              0.7777777777777778,
              "#fb9f3a"
             ],
             [
              0.8888888888888888,
              "#fdca26"
             ],
             [
              1,
              "#f0f921"
             ]
            ],
            "type": "surface"
           }
          ],
          "table": [
           {
            "cells": {
             "fill": {
              "color": "#EBF0F8"
             },
             "line": {
              "color": "white"
             }
            },
            "header": {
             "fill": {
              "color": "#C8D4E3"
             },
             "line": {
              "color": "white"
             }
            },
            "type": "table"
           }
          ]
         },
         "layout": {
          "annotationdefaults": {
           "arrowcolor": "#2a3f5f",
           "arrowhead": 0,
           "arrowwidth": 1
          },
          "autotypenumbers": "strict",
          "coloraxis": {
           "colorbar": {
            "outlinewidth": 0,
            "ticks": ""
           }
          },
          "colorscale": {
           "diverging": [
            [
             0,
             "#8e0152"
            ],
            [
             0.1,
             "#c51b7d"
            ],
            [
             0.2,
             "#de77ae"
            ],
            [
             0.3,
             "#f1b6da"
            ],
            [
             0.4,
             "#fde0ef"
            ],
            [
             0.5,
             "#f7f7f7"
            ],
            [
             0.6,
             "#e6f5d0"
            ],
            [
             0.7,
             "#b8e186"
            ],
            [
             0.8,
             "#7fbc41"
            ],
            [
             0.9,
             "#4d9221"
            ],
            [
             1,
             "#276419"
            ]
           ],
           "sequential": [
            [
             0,
             "#0d0887"
            ],
            [
             0.1111111111111111,
             "#46039f"
            ],
            [
             0.2222222222222222,
             "#7201a8"
            ],
            [
             0.3333333333333333,
             "#9c179e"
            ],
            [
             0.4444444444444444,
             "#bd3786"
            ],
            [
             0.5555555555555556,
             "#d8576b"
            ],
            [
             0.6666666666666666,
             "#ed7953"
            ],
            [
             0.7777777777777778,
             "#fb9f3a"
            ],
            [
             0.8888888888888888,
             "#fdca26"
            ],
            [
             1,
             "#f0f921"
            ]
           ],
           "sequentialminus": [
            [
             0,
             "#0d0887"
            ],
            [
             0.1111111111111111,
             "#46039f"
            ],
            [
             0.2222222222222222,
             "#7201a8"
            ],
            [
             0.3333333333333333,
             "#9c179e"
            ],
            [
             0.4444444444444444,
             "#bd3786"
            ],
            [
             0.5555555555555556,
             "#d8576b"
            ],
            [
             0.6666666666666666,
             "#ed7953"
            ],
            [
             0.7777777777777778,
             "#fb9f3a"
            ],
            [
             0.8888888888888888,
             "#fdca26"
            ],
            [
             1,
             "#f0f921"
            ]
           ]
          },
          "colorway": [
           "#636efa",
           "#EF553B",
           "#00cc96",
           "#ab63fa",
           "#FFA15A",
           "#19d3f3",
           "#FF6692",
           "#B6E880",
           "#FF97FF",
           "#FECB52"
          ],
          "font": {
           "color": "#2a3f5f"
          },
          "geo": {
           "bgcolor": "white",
           "lakecolor": "white",
           "landcolor": "#E5ECF6",
           "showlakes": true,
           "showland": true,
           "subunitcolor": "white"
          },
          "hoverlabel": {
           "align": "left"
          },
          "hovermode": "closest",
          "mapbox": {
           "style": "light"
          },
          "paper_bgcolor": "white",
          "plot_bgcolor": "#E5ECF6",
          "polar": {
           "angularaxis": {
            "gridcolor": "white",
            "linecolor": "white",
            "ticks": ""
           },
           "bgcolor": "#E5ECF6",
           "radialaxis": {
            "gridcolor": "white",
            "linecolor": "white",
            "ticks": ""
           }
          },
          "scene": {
           "xaxis": {
            "backgroundcolor": "#E5ECF6",
            "gridcolor": "white",
            "gridwidth": 2,
            "linecolor": "white",
            "showbackground": true,
            "ticks": "",
            "zerolinecolor": "white"
           },
           "yaxis": {
            "backgroundcolor": "#E5ECF6",
            "gridcolor": "white",
            "gridwidth": 2,
            "linecolor": "white",
            "showbackground": true,
            "ticks": "",
            "zerolinecolor": "white"
           },
           "zaxis": {
            "backgroundcolor": "#E5ECF6",
            "gridcolor": "white",
            "gridwidth": 2,
            "linecolor": "white",
            "showbackground": true,
            "ticks": "",
            "zerolinecolor": "white"
           }
          },
          "shapedefaults": {
           "line": {
            "color": "#2a3f5f"
           }
          },
          "ternary": {
           "aaxis": {
            "gridcolor": "white",
            "linecolor": "white",
            "ticks": ""
           },
           "baxis": {
            "gridcolor": "white",
            "linecolor": "white",
            "ticks": ""
           },
           "bgcolor": "#E5ECF6",
           "caxis": {
            "gridcolor": "white",
            "linecolor": "white",
            "ticks": ""
           }
          },
          "title": {
           "x": 0.05
          },
          "xaxis": {
           "automargin": true,
           "gridcolor": "white",
           "linecolor": "white",
           "ticks": "",
           "title": {
            "standoff": 15
           },
           "zerolinecolor": "white",
           "zerolinewidth": 2
          },
          "yaxis": {
           "automargin": true,
           "gridcolor": "white",
           "linecolor": "white",
           "ticks": "",
           "title": {
            "standoff": 15
           },
           "zerolinecolor": "white",
           "zerolinewidth": 2
          }
         }
        },
        "xaxis": {
         "title": {
          "text": "RX Sample Rate"
         }
        },
        "yaxis": {
         "tickmode": "array",
         "ticktext": [
          "Failed",
          "Passed"
         ],
         "tickvals": [
          0,
          1
         ]
        }
       }
      },
      "text/html": [
       "<div>                            <div id=\"26137e54-bad1-48da-ad05-b6737d5521f0\" class=\"plotly-graph-div\" style=\"height:525px; width:100%;\"></div>            <script type=\"text/javascript\">                require([\"plotly\"], function(Plotly) {                    window.PLOTLYENV=window.PLOTLYENV || {};                                    if (document.getElementById(\"26137e54-bad1-48da-ad05-b6737d5521f0\")) {                    Plotly.newPlot(                        \"26137e54-bad1-48da-ad05-b6737d5521f0\",                        [{\"name\": \"TX LINK\", \"type\": \"scatter\", \"x\": [100000000, 101000000, 102000000, 128000000, 130000000, 132000000, 134000000, 135000000, 136000000, 137000000, 138000000, 139000000, 140000000, 141000000, 142000000, 143000000, 144000000, 145000000, 146000000, 147000000, 148000000, 149000000, 150000000, 151000000, 152000000, 153000000, 154000000, 156000000, 157000000, 159000000, 160000000, 161000000, 162000000, 163000000, 164000000, 165000000, 166000000, 167000000, 168000000, 169000000, 170000000, 171000000, 172000000, 173000000, 174000000, 175000000, 176000000, 177000000, 178000000, 179000000, 180000000, 181000000, 182000000, 183000000, 184000000, 185000000, 186000000, 187000000, 188000000, 189000000, 190000000, 191000000, 192000000, 193000000, 194000000, 195000000, 196000000, 197000000, 198000000, 199000000, 201000000, 202000000, 203000000, 204000000, 245000000, 247000000, 256000000, 263000000, 264000000, 265000000, 266000000, 267000000, 268000000, 269000000, 270000000, 271000000, 272000000, 273000000, 274000000, 275000000, 276000000, 277000000, 278000000, 279000000, 280000000, 281000000, 282000000, 283000000, 284000000, 285000000, 286000000, 287000000, 288000000, 289000000, 290000000, 291000000, 292000000, 293000000, 294000000, 295000000, 296000000, 297000000, 298000000, 299000000, 308000000, 309000000, 310000000, 314000000, 315000000, 316000000, 318000000, 320000000, 321000000, 322000000, 323000000, 324000000, 325000000, 326000000, 327000000, 328000000, 329000000, 330000000, 331000000, 332000000, 333000000, 334000000, 335000000, 336000000, 337000000, 338000000, 339000000, 340000000, 341000000, 342000000, 343000000, 344000000, 345000000, 346000000, 347000000, 348000000, 349000000, 350000000, 351000000, 352000000, 353000000, 354000000, 355000000, 356000000, 357000000, 358000000, 359000000, 360000000, 361000000, 362000000, 363000000, 364000000, 365000000, 366000000, 367000000, 368000000, 369000000, 370000000, 371000000, 372000000, 373000000, 374000000, 375000000, 376000000, 377000000, 378000000, 379000000, 380000000, 381000000, 382000000, 383000000, 384000000, 385000000, 386000000, 387000000, 388000000, 389000000, 390000000, 391000000, 392000000, 393000000, 394000000, 395000000, 396000000, 397000000, 398000000, 399000000], \"y\": [1, 1, 1, 1, 1, 1, 1, 1, 1, 1, 1, 1, 1, 1, 1, 1, 1, 1, 1, 1, 1, 1, 1, 1, 1, 1, 1, 1, 1, 1, 1, 1, 1, 1, 1, 1, 1, 1, 1, 1, 1, 1, 1, 1, 1, 1, 1, 1, 1, 1, 1, 1, 1, 1, 1, 1, 1, 1, 1, 1, 1, 1, 1, 1, 1, 1, 1, 1, 1, 1, 1, 1, 1, 1, 1, 1, 1, 1, 1, 1, 1, 1, 1, 1, 1, 1, 1, 1, 1, 1, 1, 1, 1, 1, 1, 1, 1, 1, 1, 1, 1, 1, 1, 1, 1, 1, 1, 1, 1, 1, 1, 1, 1, 1, 1, 1, 1, 1, 1, 1, 1, 1, 1, 1, 1, 1, 1, 1, 1, 1, 1, 1, 1, 1, 1, 1, 1, 1, 1, 1, 1, 1, 1, 1, 1, 1, 1, 1, 1, 1, 1, 1, 1, 1, 1, 1, 1, 1, 1, 1, 1, 1, 1, 1, 1, 1, 1, 1, 1, 1, 1, 1, 1, 1, 1, 1, 1, 1, 1, 1, 1, 1, 1, 1, 1, 1, 1, 1, 1, 1, 1, 1, 1, 1, 1, 1, 1, 1, 1, 1, 1]}, {\"name\": \"RX LINK\", \"type\": \"scatter\", \"x\": [100000000, 101000000, 102000000, 128000000, 130000000, 132000000, 134000000, 135000000, 136000000, 137000000, 138000000, 139000000, 140000000, 141000000, 142000000, 143000000, 144000000, 145000000, 146000000, 147000000, 148000000, 149000000, 150000000, 151000000, 152000000, 153000000, 154000000, 156000000, 157000000, 159000000, 160000000, 161000000, 162000000, 163000000, 164000000, 165000000, 166000000, 167000000, 168000000, 169000000, 170000000, 171000000, 172000000, 173000000, 174000000, 175000000, 176000000, 177000000, 178000000, 179000000, 180000000, 181000000, 182000000, 183000000, 184000000, 185000000, 186000000, 187000000, 188000000, 189000000, 190000000, 191000000, 192000000, 193000000, 194000000, 195000000, 196000000, 197000000, 198000000, 199000000, 201000000, 202000000, 203000000, 204000000, 245000000, 247000000, 256000000, 263000000, 264000000, 265000000, 266000000, 267000000, 268000000, 269000000, 270000000, 271000000, 272000000, 273000000, 274000000, 275000000, 276000000, 277000000, 278000000, 279000000, 280000000, 281000000, 282000000, 283000000, 284000000, 285000000, 286000000, 287000000, 288000000, 289000000, 290000000, 291000000, 292000000, 293000000, 294000000, 295000000, 296000000, 297000000, 298000000, 299000000, 308000000, 309000000, 310000000, 314000000, 315000000, 316000000, 318000000, 320000000, 321000000, 322000000, 323000000, 324000000, 325000000, 326000000, 327000000, 328000000, 329000000, 330000000, 331000000, 332000000, 333000000, 334000000, 335000000, 336000000, 337000000, 338000000, 339000000, 340000000, 341000000, 342000000, 343000000, 344000000, 345000000, 346000000, 347000000, 348000000, 349000000, 350000000, 351000000, 352000000, 353000000, 354000000, 355000000, 356000000, 357000000, 358000000, 359000000, 360000000, 361000000, 362000000, 363000000, 364000000, 365000000, 366000000, 367000000, 368000000, 369000000, 370000000, 371000000, 372000000, 373000000, 374000000, 375000000, 376000000, 377000000, 378000000, 379000000, 380000000, 381000000, 382000000, 383000000, 384000000, 385000000, 386000000, 387000000, 388000000, 389000000, 390000000, 391000000, 392000000, 393000000, 394000000, 395000000, 396000000, 397000000, 398000000, 399000000], \"y\": [0, 0, 0, 1, 1, 1, 1, 1, 1, 1, 1, 1, 1, 1, 1, 1, 1, 1, 1, 1, 1, 1, 1, 1, 1, 1, 1, 1, 1, 1, 1, 1, 1, 0, 1, 1, 0, 0, 0, 0, 0, 0, 0, 0, 0, 0, 0, 0, 0, 0, 0, 0, 0, 0, 0, 0, 0, 0, 0, 0, 0, 0, 0, 0, 0, 0, 0, 0, 0, 0, 0, 0, 0, 0, 1, 1, 1, 1, 1, 1, 1, 1, 1, 1, 1, 1, 1, 1, 1, 1, 1, 1, 1, 1, 1, 1, 1, 1, 1, 1, 1, 1, 1, 1, 1, 1, 1, 1, 1, 1, 1, 1, 1, 1, 1, 1, 1, 1, 1, 1, 1, 1, 1, 1, 1, 1, 1, 1, 1, 1, 1, 1, 1, 1, 1, 1, 1, 1, 1, 1, 1, 0, 0, 1, 1, 0, 0, 0, 0, 0, 0, 0, 0, 0, 0, 0, 0, 0, 0, 0, 0, 0, 0, 0, 0, 0, 0, 0, 0, 0, 0, 0, 0, 0, 0, 0, 0, 0, 0, 0, 0, 0, 0, 0, 0, 0, 0, 0, 0, 0, 0, 0, 0, 0, 0, 0, 0, 0, 0, 0, 0]}],                        {\"template\": {\"data\": {\"bar\": [{\"error_x\": {\"color\": \"#2a3f5f\"}, \"error_y\": {\"color\": \"#2a3f5f\"}, \"marker\": {\"line\": {\"color\": \"#E5ECF6\", \"width\": 0.5}}, \"type\": \"bar\"}], \"barpolar\": [{\"marker\": {\"line\": {\"color\": \"#E5ECF6\", \"width\": 0.5}}, \"type\": \"barpolar\"}], \"carpet\": [{\"aaxis\": {\"endlinecolor\": \"#2a3f5f\", \"gridcolor\": \"white\", \"linecolor\": \"white\", \"minorgridcolor\": \"white\", \"startlinecolor\": \"#2a3f5f\"}, \"baxis\": {\"endlinecolor\": \"#2a3f5f\", \"gridcolor\": \"white\", \"linecolor\": \"white\", \"minorgridcolor\": \"white\", \"startlinecolor\": \"#2a3f5f\"}, \"type\": \"carpet\"}], \"choropleth\": [{\"colorbar\": {\"outlinewidth\": 0, \"ticks\": \"\"}, \"type\": \"choropleth\"}], \"contour\": [{\"colorbar\": {\"outlinewidth\": 0, \"ticks\": \"\"}, \"colorscale\": [[0.0, \"#0d0887\"], [0.1111111111111111, \"#46039f\"], [0.2222222222222222, \"#7201a8\"], [0.3333333333333333, \"#9c179e\"], [0.4444444444444444, \"#bd3786\"], [0.5555555555555556, \"#d8576b\"], [0.6666666666666666, \"#ed7953\"], [0.7777777777777778, \"#fb9f3a\"], [0.8888888888888888, \"#fdca26\"], [1.0, \"#f0f921\"]], \"type\": \"contour\"}], \"contourcarpet\": [{\"colorbar\": {\"outlinewidth\": 0, \"ticks\": \"\"}, \"type\": \"contourcarpet\"}], \"heatmap\": [{\"colorbar\": {\"outlinewidth\": 0, \"ticks\": \"\"}, \"colorscale\": [[0.0, \"#0d0887\"], [0.1111111111111111, \"#46039f\"], [0.2222222222222222, \"#7201a8\"], [0.3333333333333333, \"#9c179e\"], [0.4444444444444444, \"#bd3786\"], [0.5555555555555556, \"#d8576b\"], [0.6666666666666666, \"#ed7953\"], [0.7777777777777778, \"#fb9f3a\"], [0.8888888888888888, \"#fdca26\"], [1.0, \"#f0f921\"]], \"type\": \"heatmap\"}], \"heatmapgl\": [{\"colorbar\": {\"outlinewidth\": 0, \"ticks\": \"\"}, \"colorscale\": [[0.0, \"#0d0887\"], [0.1111111111111111, \"#46039f\"], [0.2222222222222222, \"#7201a8\"], [0.3333333333333333, \"#9c179e\"], [0.4444444444444444, \"#bd3786\"], [0.5555555555555556, \"#d8576b\"], [0.6666666666666666, \"#ed7953\"], [0.7777777777777778, \"#fb9f3a\"], [0.8888888888888888, \"#fdca26\"], [1.0, \"#f0f921\"]], \"type\": \"heatmapgl\"}], \"histogram\": [{\"marker\": {\"colorbar\": {\"outlinewidth\": 0, \"ticks\": \"\"}}, \"type\": \"histogram\"}], \"histogram2d\": [{\"colorbar\": {\"outlinewidth\": 0, \"ticks\": \"\"}, \"colorscale\": [[0.0, \"#0d0887\"], [0.1111111111111111, \"#46039f\"], [0.2222222222222222, \"#7201a8\"], [0.3333333333333333, \"#9c179e\"], [0.4444444444444444, \"#bd3786\"], [0.5555555555555556, \"#d8576b\"], [0.6666666666666666, \"#ed7953\"], [0.7777777777777778, \"#fb9f3a\"], [0.8888888888888888, \"#fdca26\"], [1.0, \"#f0f921\"]], \"type\": \"histogram2d\"}], \"histogram2dcontour\": [{\"colorbar\": {\"outlinewidth\": 0, \"ticks\": \"\"}, \"colorscale\": [[0.0, \"#0d0887\"], [0.1111111111111111, \"#46039f\"], [0.2222222222222222, \"#7201a8\"], [0.3333333333333333, \"#9c179e\"], [0.4444444444444444, \"#bd3786\"], [0.5555555555555556, \"#d8576b\"], [0.6666666666666666, \"#ed7953\"], [0.7777777777777778, \"#fb9f3a\"], [0.8888888888888888, \"#fdca26\"], [1.0, \"#f0f921\"]], \"type\": \"histogram2dcontour\"}], \"mesh3d\": [{\"colorbar\": {\"outlinewidth\": 0, \"ticks\": \"\"}, \"type\": \"mesh3d\"}], \"parcoords\": [{\"line\": {\"colorbar\": {\"outlinewidth\": 0, \"ticks\": \"\"}}, \"type\": \"parcoords\"}], \"pie\": [{\"automargin\": true, \"type\": \"pie\"}], \"scatter\": [{\"marker\": {\"colorbar\": {\"outlinewidth\": 0, \"ticks\": \"\"}}, \"type\": \"scatter\"}], \"scatter3d\": [{\"line\": {\"colorbar\": {\"outlinewidth\": 0, \"ticks\": \"\"}}, \"marker\": {\"colorbar\": {\"outlinewidth\": 0, \"ticks\": \"\"}}, \"type\": \"scatter3d\"}], \"scattercarpet\": [{\"marker\": {\"colorbar\": {\"outlinewidth\": 0, \"ticks\": \"\"}}, \"type\": \"scattercarpet\"}], \"scattergeo\": [{\"marker\": {\"colorbar\": {\"outlinewidth\": 0, \"ticks\": \"\"}}, \"type\": \"scattergeo\"}], \"scattergl\": [{\"marker\": {\"colorbar\": {\"outlinewidth\": 0, \"ticks\": \"\"}}, \"type\": \"scattergl\"}], \"scattermapbox\": [{\"marker\": {\"colorbar\": {\"outlinewidth\": 0, \"ticks\": \"\"}}, \"type\": \"scattermapbox\"}], \"scatterpolar\": [{\"marker\": {\"colorbar\": {\"outlinewidth\": 0, \"ticks\": \"\"}}, \"type\": \"scatterpolar\"}], \"scatterpolargl\": [{\"marker\": {\"colorbar\": {\"outlinewidth\": 0, \"ticks\": \"\"}}, \"type\": \"scatterpolargl\"}], \"scatterternary\": [{\"marker\": {\"colorbar\": {\"outlinewidth\": 0, \"ticks\": \"\"}}, \"type\": \"scatterternary\"}], \"surface\": [{\"colorbar\": {\"outlinewidth\": 0, \"ticks\": \"\"}, \"colorscale\": [[0.0, \"#0d0887\"], [0.1111111111111111, \"#46039f\"], [0.2222222222222222, \"#7201a8\"], [0.3333333333333333, \"#9c179e\"], [0.4444444444444444, \"#bd3786\"], [0.5555555555555556, \"#d8576b\"], [0.6666666666666666, \"#ed7953\"], [0.7777777777777778, \"#fb9f3a\"], [0.8888888888888888, \"#fdca26\"], [1.0, \"#f0f921\"]], \"type\": \"surface\"}], \"table\": [{\"cells\": {\"fill\": {\"color\": \"#EBF0F8\"}, \"line\": {\"color\": \"white\"}}, \"header\": {\"fill\": {\"color\": \"#C8D4E3\"}, \"line\": {\"color\": \"white\"}}, \"type\": \"table\"}]}, \"layout\": {\"annotationdefaults\": {\"arrowcolor\": \"#2a3f5f\", \"arrowhead\": 0, \"arrowwidth\": 1}, \"autotypenumbers\": \"strict\", \"coloraxis\": {\"colorbar\": {\"outlinewidth\": 0, \"ticks\": \"\"}}, \"colorscale\": {\"diverging\": [[0, \"#8e0152\"], [0.1, \"#c51b7d\"], [0.2, \"#de77ae\"], [0.3, \"#f1b6da\"], [0.4, \"#fde0ef\"], [0.5, \"#f7f7f7\"], [0.6, \"#e6f5d0\"], [0.7, \"#b8e186\"], [0.8, \"#7fbc41\"], [0.9, \"#4d9221\"], [1, \"#276419\"]], \"sequential\": [[0.0, \"#0d0887\"], [0.1111111111111111, \"#46039f\"], [0.2222222222222222, \"#7201a8\"], [0.3333333333333333, \"#9c179e\"], [0.4444444444444444, \"#bd3786\"], [0.5555555555555556, \"#d8576b\"], [0.6666666666666666, \"#ed7953\"], [0.7777777777777778, \"#fb9f3a\"], [0.8888888888888888, \"#fdca26\"], [1.0, \"#f0f921\"]], \"sequentialminus\": [[0.0, \"#0d0887\"], [0.1111111111111111, \"#46039f\"], [0.2222222222222222, \"#7201a8\"], [0.3333333333333333, \"#9c179e\"], [0.4444444444444444, \"#bd3786\"], [0.5555555555555556, \"#d8576b\"], [0.6666666666666666, \"#ed7953\"], [0.7777777777777778, \"#fb9f3a\"], [0.8888888888888888, \"#fdca26\"], [1.0, \"#f0f921\"]]}, \"colorway\": [\"#636efa\", \"#EF553B\", \"#00cc96\", \"#ab63fa\", \"#FFA15A\", \"#19d3f3\", \"#FF6692\", \"#B6E880\", \"#FF97FF\", \"#FECB52\"], \"font\": {\"color\": \"#2a3f5f\"}, \"geo\": {\"bgcolor\": \"white\", \"lakecolor\": \"white\", \"landcolor\": \"#E5ECF6\", \"showlakes\": true, \"showland\": true, \"subunitcolor\": \"white\"}, \"hoverlabel\": {\"align\": \"left\"}, \"hovermode\": \"closest\", \"mapbox\": {\"style\": \"light\"}, \"paper_bgcolor\": \"white\", \"plot_bgcolor\": \"#E5ECF6\", \"polar\": {\"angularaxis\": {\"gridcolor\": \"white\", \"linecolor\": \"white\", \"ticks\": \"\"}, \"bgcolor\": \"#E5ECF6\", \"radialaxis\": {\"gridcolor\": \"white\", \"linecolor\": \"white\", \"ticks\": \"\"}}, \"scene\": {\"xaxis\": {\"backgroundcolor\": \"#E5ECF6\", \"gridcolor\": \"white\", \"gridwidth\": 2, \"linecolor\": \"white\", \"showbackground\": true, \"ticks\": \"\", \"zerolinecolor\": \"white\"}, \"yaxis\": {\"backgroundcolor\": \"#E5ECF6\", \"gridcolor\": \"white\", \"gridwidth\": 2, \"linecolor\": \"white\", \"showbackground\": true, \"ticks\": \"\", \"zerolinecolor\": \"white\"}, \"zaxis\": {\"backgroundcolor\": \"#E5ECF6\", \"gridcolor\": \"white\", \"gridwidth\": 2, \"linecolor\": \"white\", \"showbackground\": true, \"ticks\": \"\", \"zerolinecolor\": \"white\"}}, \"shapedefaults\": {\"line\": {\"color\": \"#2a3f5f\"}}, \"ternary\": {\"aaxis\": {\"gridcolor\": \"white\", \"linecolor\": \"white\", \"ticks\": \"\"}, \"baxis\": {\"gridcolor\": \"white\", \"linecolor\": \"white\", \"ticks\": \"\"}, \"bgcolor\": \"#E5ECF6\", \"caxis\": {\"gridcolor\": \"white\", \"linecolor\": \"white\", \"ticks\": \"\"}}, \"title\": {\"x\": 0.05}, \"xaxis\": {\"automargin\": true, \"gridcolor\": \"white\", \"linecolor\": \"white\", \"ticks\": \"\", \"title\": {\"standoff\": 15}, \"zerolinecolor\": \"white\", \"zerolinewidth\": 2}, \"yaxis\": {\"automargin\": true, \"gridcolor\": \"white\", \"linecolor\": \"white\", \"ticks\": \"\", \"title\": {\"standoff\": 15}, \"zerolinecolor\": \"white\", \"zerolinewidth\": 2}}}, \"xaxis\": {\"title\": {\"text\": \"RX Sample Rate\"}}, \"yaxis\": {\"tickmode\": \"array\", \"ticktext\": [\"Failed\", \"Passed\"], \"tickvals\": [0, 1]}},                        {\"responsive\": true}                    ).then(function(){\n",
       "                            \n",
       "var gd = document.getElementById('26137e54-bad1-48da-ad05-b6737d5521f0');\n",
       "var x = new MutationObserver(function (mutations, observer) {{\n",
       "        var display = window.getComputedStyle(gd).display;\n",
       "        if (!display || display === 'none') {{\n",
       "            console.log([gd, 'removed!']);\n",
       "            Plotly.purge(gd);\n",
       "            observer.disconnect();\n",
       "        }}\n",
       "}});\n",
       "\n",
       "// Listen for the removal of the full notebook cells\n",
       "var notebookContainer = gd.closest('#notebook-container');\n",
       "if (notebookContainer) {{\n",
       "    x.observe(notebookContainer, {childList: true});\n",
       "}}\n",
       "\n",
       "// Listen for the clearing of the current output cell\n",
       "var outputEl = gd.closest('.output');\n",
       "if (outputEl) {{\n",
       "    x.observe(outputEl, {childList: true});\n",
       "}}\n",
       "\n",
       "                        })                };                });            </script>        </div>"
      ]
     },
     "metadata": {},
     "output_type": "display_data"
    }
   ],
   "source": [
    "trace0 = Scatter(\n",
    "  x=results_tx['rx_sample_rate'],\n",
    "  y=results_tx['passed'],\n",
    "  name='TX LINK'\n",
    ")\n",
    "trace1 = Scatter(\n",
    "  x=results_rx['rx_sample_rate'],\n",
    "  y=results_rx['passed'],\n",
    "  name='RX LINK'\n",
    ")\n",
    "fig = go.Figure()\n",
    "fig.add_trace(trace0)\n",
    "fig.add_trace(trace1)\n",
    "fig.update_layout(\n",
    "    yaxis = dict(\n",
    "        tickmode = 'array',\n",
    "        tickvals = [0,1],\n",
    "        ticktext = ['Failed','Passed']\n",
    "    ),\n",
    "    xaxis = dict(title='RX Sample Rate')\n",
    ")\n",
    "iplot(fig)"
   ]
  },
  {
   "cell_type": "code",
   "execution_count": 5,
   "id": "cd616891",
   "metadata": {},
   "outputs": [],
   "source": [
    "## STATES\n",
    "results_rx = results_ref.copy()\n",
    "results_rx.sort_values(by=['rx_sample_rate'], inplace=True)"
   ]
  },
  {
   "cell_type": "code",
   "execution_count": 6,
   "id": "cb2ffa50",
   "metadata": {},
   "outputs": [
    {
     "data": {
      "application/vnd.plotly.v1+json": {
       "config": {
        "linkText": "Export to plot.ly",
        "plotlyServerURL": "https://plot.ly",
        "showLink": false
       },
       "data": [
        {
         "name": "TX LINK STATE",
         "type": "scatter",
         "x": [
          100000000,
          101000000,
          102000000,
          128000000,
          130000000,
          132000000,
          134000000,
          135000000,
          136000000,
          137000000,
          138000000,
          139000000,
          140000000,
          141000000,
          142000000,
          143000000,
          144000000,
          145000000,
          146000000,
          147000000,
          148000000,
          149000000,
          150000000,
          151000000,
          152000000,
          153000000,
          154000000,
          156000000,
          157000000,
          159000000,
          160000000,
          161000000,
          162000000,
          163000000,
          164000000,
          165000000,
          166000000,
          167000000,
          168000000,
          169000000,
          170000000,
          171000000,
          172000000,
          173000000,
          174000000,
          175000000,
          176000000,
          177000000,
          178000000,
          179000000,
          180000000,
          181000000,
          182000000,
          183000000,
          184000000,
          185000000,
          186000000,
          187000000,
          188000000,
          189000000,
          190000000,
          191000000,
          192000000,
          193000000,
          194000000,
          195000000,
          196000000,
          197000000,
          198000000,
          199000000,
          201000000,
          202000000,
          203000000,
          204000000,
          245000000,
          247000000,
          256000000,
          263000000,
          264000000,
          265000000,
          266000000,
          267000000,
          268000000,
          269000000,
          270000000,
          271000000,
          272000000,
          273000000,
          274000000,
          275000000,
          276000000,
          277000000,
          278000000,
          279000000,
          280000000,
          281000000,
          282000000,
          283000000,
          284000000,
          285000000,
          286000000,
          287000000,
          288000000,
          289000000,
          290000000,
          291000000,
          292000000,
          293000000,
          294000000,
          295000000,
          296000000,
          297000000,
          298000000,
          299000000,
          308000000,
          309000000,
          310000000,
          314000000,
          315000000,
          316000000,
          318000000,
          320000000,
          321000000,
          322000000,
          323000000,
          324000000,
          325000000,
          326000000,
          327000000,
          328000000,
          329000000,
          330000000,
          331000000,
          332000000,
          333000000,
          334000000,
          335000000,
          336000000,
          337000000,
          338000000,
          339000000,
          340000000,
          341000000,
          342000000,
          343000000,
          344000000,
          345000000,
          346000000,
          347000000,
          348000000,
          349000000,
          350000000,
          351000000,
          352000000,
          353000000,
          354000000,
          355000000,
          356000000,
          357000000,
          358000000,
          359000000,
          360000000,
          361000000,
          362000000,
          363000000,
          364000000,
          365000000,
          366000000,
          367000000,
          368000000,
          369000000,
          370000000,
          371000000,
          372000000,
          373000000,
          374000000,
          375000000,
          376000000,
          377000000,
          378000000,
          379000000,
          380000000,
          381000000,
          382000000,
          383000000,
          384000000,
          385000000,
          386000000,
          387000000,
          388000000,
          389000000,
          390000000,
          391000000,
          392000000,
          393000000,
          394000000,
          395000000,
          396000000,
          397000000,
          398000000,
          399000000
         ],
         "y": [
          "DATA",
          "DATA",
          "DATA",
          "DATA",
          "DATA",
          "DATA",
          "DATA",
          "DATA",
          "DATA",
          "DATA",
          "DATA",
          "DATA",
          "DATA",
          "DATA",
          "DATA",
          "DATA",
          "DATA",
          "DATA",
          "DATA",
          "DATA",
          "DATA",
          "DATA",
          "DATA",
          "DATA",
          "DATA",
          "DATA",
          "DATA",
          "DATA",
          "DATA",
          "DATA",
          "DATA",
          "DATA",
          "DATA",
          "DATA",
          "DATA",
          "DATA",
          "DATA",
          "DATA",
          "DATA",
          "DATA",
          "DATA",
          "DATA",
          "DATA",
          "DATA",
          "DATA",
          "DATA",
          "DATA",
          "DATA",
          "DATA",
          "DATA",
          "DATA",
          "DATA",
          "DATA",
          "DATA",
          "DATA",
          "DATA",
          "DATA",
          "DATA",
          "DATA",
          "DATA",
          "DATA",
          "DATA",
          "DATA",
          "DATA",
          "DATA",
          "DATA",
          "DATA",
          "DATA",
          "DATA",
          "DATA",
          "DATA",
          "DATA",
          "DATA",
          "DATA",
          "DATA",
          "DATA",
          "DATA",
          "DATA",
          "DATA",
          "DATA",
          "DATA",
          "DATA",
          "DATA",
          "DATA",
          "DATA",
          "DATA",
          "DATA",
          "DATA",
          "DATA",
          "DATA",
          "DATA",
          "DATA",
          "DATA",
          "DATA",
          "DATA",
          "DATA",
          "DATA",
          "DATA",
          "DATA",
          "DATA",
          "DATA",
          "DATA",
          "DATA",
          "DATA",
          "DATA",
          "DATA",
          "DATA",
          "DATA",
          "DATA",
          "DATA",
          "DATA",
          "DATA",
          "DATA",
          "DATA",
          "DATA",
          "DATA",
          "DATA",
          "DATA",
          "DATA",
          "DATA",
          "DATA",
          "DATA",
          "DATA",
          "DATA",
          "DATA",
          "DATA",
          "DATA",
          "DATA",
          "DATA",
          "DATA",
          "DATA",
          "DATA",
          "DATA",
          "DATA",
          "DATA",
          "DATA",
          "DATA",
          "DATA",
          "DATA",
          "DATA",
          "DATA",
          "DATA",
          "DATA",
          "DATA",
          "DATA",
          "DATA",
          "DATA",
          "DATA",
          "DATA",
          "DATA",
          "DATA",
          "DATA",
          "DATA",
          "DATA",
          "DATA",
          "DATA",
          "DATA",
          "DATA",
          "DATA",
          "DATA",
          "DATA",
          "DATA",
          "DATA",
          "DATA",
          "DATA",
          "DATA",
          "DATA",
          "DATA",
          "DATA",
          "DATA",
          "DATA",
          "DATA",
          "DATA",
          "DATA",
          "DATA",
          "DATA",
          "DATA",
          "DATA",
          "DATA",
          "DATA",
          "DATA",
          "DATA",
          "DATA",
          "DATA",
          "DATA",
          "DATA",
          "DATA",
          "DATA",
          "DATA",
          "DATA",
          "DATA",
          "DATA",
          "DATA",
          "DATA",
          "DATA",
          "DATA",
          "DATA",
          "DATA",
          "DATA",
          "DATA",
          "DATA"
         ]
        },
        {
         "name": "RX LINK STATE",
         "type": "scatter",
         "x": [
          100000000,
          101000000,
          102000000,
          128000000,
          130000000,
          132000000,
          134000000,
          135000000,
          136000000,
          137000000,
          138000000,
          139000000,
          140000000,
          141000000,
          142000000,
          143000000,
          144000000,
          145000000,
          146000000,
          147000000,
          148000000,
          149000000,
          150000000,
          151000000,
          152000000,
          153000000,
          154000000,
          156000000,
          157000000,
          159000000,
          160000000,
          161000000,
          162000000,
          163000000,
          164000000,
          165000000,
          166000000,
          167000000,
          168000000,
          169000000,
          170000000,
          171000000,
          172000000,
          173000000,
          174000000,
          175000000,
          176000000,
          177000000,
          178000000,
          179000000,
          180000000,
          181000000,
          182000000,
          183000000,
          184000000,
          185000000,
          186000000,
          187000000,
          188000000,
          189000000,
          190000000,
          191000000,
          192000000,
          193000000,
          194000000,
          195000000,
          196000000,
          197000000,
          198000000,
          199000000,
          201000000,
          202000000,
          203000000,
          204000000,
          245000000,
          247000000,
          256000000,
          263000000,
          264000000,
          265000000,
          266000000,
          267000000,
          268000000,
          269000000,
          270000000,
          271000000,
          272000000,
          273000000,
          274000000,
          275000000,
          276000000,
          277000000,
          278000000,
          279000000,
          280000000,
          281000000,
          282000000,
          283000000,
          284000000,
          285000000,
          286000000,
          287000000,
          288000000,
          289000000,
          290000000,
          291000000,
          292000000,
          293000000,
          294000000,
          295000000,
          296000000,
          297000000,
          298000000,
          299000000,
          308000000,
          309000000,
          310000000,
          314000000,
          315000000,
          316000000,
          318000000,
          320000000,
          321000000,
          322000000,
          323000000,
          324000000,
          325000000,
          326000000,
          327000000,
          328000000,
          329000000,
          330000000,
          331000000,
          332000000,
          333000000,
          334000000,
          335000000,
          336000000,
          337000000,
          338000000,
          339000000,
          340000000,
          341000000,
          342000000,
          343000000,
          344000000,
          345000000,
          346000000,
          347000000,
          348000000,
          349000000,
          350000000,
          351000000,
          352000000,
          353000000,
          354000000,
          355000000,
          356000000,
          357000000,
          358000000,
          359000000,
          360000000,
          361000000,
          362000000,
          363000000,
          364000000,
          365000000,
          366000000,
          367000000,
          368000000,
          369000000,
          370000000,
          371000000,
          372000000,
          373000000,
          374000000,
          375000000,
          376000000,
          377000000,
          378000000,
          379000000,
          380000000,
          381000000,
          382000000,
          383000000,
          384000000,
          385000000,
          386000000,
          387000000,
          388000000,
          389000000,
          390000000,
          391000000,
          392000000,
          393000000,
          394000000,
          395000000,
          396000000,
          397000000,
          398000000,
          399000000
         ],
         "y": [
          "CGS",
          "CGS",
          "CGS",
          "DATA",
          "DATA",
          "DATA",
          "DATA",
          "DATA",
          "DATA",
          "DATA",
          "DATA",
          "DATA",
          "DATA",
          "DATA",
          "DATA",
          "DATA",
          "DATA",
          "DATA",
          "DATA",
          "DATA",
          "DATA",
          "DATA",
          "DATA",
          "DATA",
          "DATA",
          "DATA",
          "DATA",
          "DATA",
          "DATA",
          "DATA",
          "DATA",
          "DATA",
          "DATA",
          "CGS",
          "DATA",
          "DATA",
          "CGS",
          "CGS",
          "CGS",
          "CGS",
          "CGS",
          "CGS",
          "CGS",
          "CGS",
          "CGS",
          "CGS",
          "CGS",
          "CGS",
          "CGS",
          "CGS",
          "CGS",
          "CGS",
          "CGS",
          "CGS",
          "CGS",
          "CGS",
          "CGS",
          "CGS",
          "CGS",
          "CGS",
          "CGS",
          "CGS",
          "CGS",
          "CGS",
          "CGS",
          "CGS",
          "CGS",
          "CGS",
          "CGS",
          "CGS",
          "CGS",
          "CGS",
          "CGS",
          "CGS",
          "DATA",
          "DATA",
          "DATA",
          "DATA",
          "DATA",
          "DATA",
          "DATA",
          "DATA",
          "DATA",
          "DATA",
          "DATA",
          "DATA",
          "DATA",
          "DATA",
          "DATA",
          "DATA",
          "DATA",
          "DATA",
          "DATA",
          "DATA",
          "DATA",
          "DATA",
          "DATA",
          "DATA",
          "DATA",
          "DATA",
          "DATA",
          "DATA",
          "DATA",
          "DATA",
          "DATA",
          "DATA",
          "DATA",
          "DATA",
          "DATA",
          "DATA",
          "DATA",
          "DATA",
          "DATA",
          "DATA",
          "DATA",
          "DATA",
          "DATA",
          "DATA",
          "DATA",
          "DATA",
          "DATA",
          "DATA",
          "DATA",
          "DATA",
          "DATA",
          "DATA",
          "DATA",
          "DATA",
          "DATA",
          "DATA",
          "DATA",
          "DATA",
          "DATA",
          "DATA",
          "DATA",
          "DATA",
          "DATA",
          "DATA",
          "DATA",
          "DATA",
          "DATA",
          "CGS",
          "CGS",
          "DATA",
          "DATA",
          "CGS",
          "CGS",
          "CGS",
          "CGS",
          "CGS",
          "CGS",
          "CGS",
          "CGS",
          "CGS",
          "CGS",
          "CGS",
          "CGS",
          "CGS",
          "CGS",
          "CGS",
          "CGS",
          "CGS",
          "CGS",
          "CGS",
          "CGS",
          "CGS",
          "CGS",
          "CGS",
          "CGS",
          "CGS",
          "CGS",
          "CGS",
          "CGS",
          "CGS",
          "CGS",
          "CGS",
          "CGS",
          "CGS",
          "CGS",
          "CGS",
          "CGS",
          "CGS",
          "CGS",
          "CGS",
          "CGS",
          "CGS",
          "CGS",
          "CGS",
          "CGS",
          "CGS",
          "CGS",
          "CGS",
          "CGS",
          "CGS",
          "CGS",
          "CGS",
          "CGS",
          "CGS",
          "CGS",
          "CGS",
          "CGS"
         ]
        }
       ],
       "layout": {
        "template": {
         "data": {
          "bar": [
           {
            "error_x": {
             "color": "#2a3f5f"
            },
            "error_y": {
             "color": "#2a3f5f"
            },
            "marker": {
             "line": {
              "color": "#E5ECF6",
              "width": 0.5
             }
            },
            "type": "bar"
           }
          ],
          "barpolar": [
           {
            "marker": {
             "line": {
              "color": "#E5ECF6",
              "width": 0.5
             }
            },
            "type": "barpolar"
           }
          ],
          "carpet": [
           {
            "aaxis": {
             "endlinecolor": "#2a3f5f",
             "gridcolor": "white",
             "linecolor": "white",
             "minorgridcolor": "white",
             "startlinecolor": "#2a3f5f"
            },
            "baxis": {
             "endlinecolor": "#2a3f5f",
             "gridcolor": "white",
             "linecolor": "white",
             "minorgridcolor": "white",
             "startlinecolor": "#2a3f5f"
            },
            "type": "carpet"
           }
          ],
          "choropleth": [
           {
            "colorbar": {
             "outlinewidth": 0,
             "ticks": ""
            },
            "type": "choropleth"
           }
          ],
          "contour": [
           {
            "colorbar": {
             "outlinewidth": 0,
             "ticks": ""
            },
            "colorscale": [
             [
              0,
              "#0d0887"
             ],
             [
              0.1111111111111111,
              "#46039f"
             ],
             [
              0.2222222222222222,
              "#7201a8"
             ],
             [
              0.3333333333333333,
              "#9c179e"
             ],
             [
              0.4444444444444444,
              "#bd3786"
             ],
             [
              0.5555555555555556,
              "#d8576b"
             ],
             [
              0.6666666666666666,
              "#ed7953"
             ],
             [
              0.7777777777777778,
              "#fb9f3a"
             ],
             [
              0.8888888888888888,
              "#fdca26"
             ],
             [
              1,
              "#f0f921"
             ]
            ],
            "type": "contour"
           }
          ],
          "contourcarpet": [
           {
            "colorbar": {
             "outlinewidth": 0,
             "ticks": ""
            },
            "type": "contourcarpet"
           }
          ],
          "heatmap": [
           {
            "colorbar": {
             "outlinewidth": 0,
             "ticks": ""
            },
            "colorscale": [
             [
              0,
              "#0d0887"
             ],
             [
              0.1111111111111111,
              "#46039f"
             ],
             [
              0.2222222222222222,
              "#7201a8"
             ],
             [
              0.3333333333333333,
              "#9c179e"
             ],
             [
              0.4444444444444444,
              "#bd3786"
             ],
             [
              0.5555555555555556,
              "#d8576b"
             ],
             [
              0.6666666666666666,
              "#ed7953"
             ],
             [
              0.7777777777777778,
              "#fb9f3a"
             ],
             [
              0.8888888888888888,
              "#fdca26"
             ],
             [
              1,
              "#f0f921"
             ]
            ],
            "type": "heatmap"
           }
          ],
          "heatmapgl": [
           {
            "colorbar": {
             "outlinewidth": 0,
             "ticks": ""
            },
            "colorscale": [
             [
              0,
              "#0d0887"
             ],
             [
              0.1111111111111111,
              "#46039f"
             ],
             [
              0.2222222222222222,
              "#7201a8"
             ],
             [
              0.3333333333333333,
              "#9c179e"
             ],
             [
              0.4444444444444444,
              "#bd3786"
             ],
             [
              0.5555555555555556,
              "#d8576b"
             ],
             [
              0.6666666666666666,
              "#ed7953"
             ],
             [
              0.7777777777777778,
              "#fb9f3a"
             ],
             [
              0.8888888888888888,
              "#fdca26"
             ],
             [
              1,
              "#f0f921"
             ]
            ],
            "type": "heatmapgl"
           }
          ],
          "histogram": [
           {
            "marker": {
             "colorbar": {
              "outlinewidth": 0,
              "ticks": ""
             }
            },
            "type": "histogram"
           }
          ],
          "histogram2d": [
           {
            "colorbar": {
             "outlinewidth": 0,
             "ticks": ""
            },
            "colorscale": [
             [
              0,
              "#0d0887"
             ],
             [
              0.1111111111111111,
              "#46039f"
             ],
             [
              0.2222222222222222,
              "#7201a8"
             ],
             [
              0.3333333333333333,
              "#9c179e"
             ],
             [
              0.4444444444444444,
              "#bd3786"
             ],
             [
              0.5555555555555556,
              "#d8576b"
             ],
             [
              0.6666666666666666,
              "#ed7953"
             ],
             [
              0.7777777777777778,
              "#fb9f3a"
             ],
             [
              0.8888888888888888,
              "#fdca26"
             ],
             [
              1,
              "#f0f921"
             ]
            ],
            "type": "histogram2d"
           }
          ],
          "histogram2dcontour": [
           {
            "colorbar": {
             "outlinewidth": 0,
             "ticks": ""
            },
            "colorscale": [
             [
              0,
              "#0d0887"
             ],
             [
              0.1111111111111111,
              "#46039f"
             ],
             [
              0.2222222222222222,
              "#7201a8"
             ],
             [
              0.3333333333333333,
              "#9c179e"
             ],
             [
              0.4444444444444444,
              "#bd3786"
             ],
             [
              0.5555555555555556,
              "#d8576b"
             ],
             [
              0.6666666666666666,
              "#ed7953"
             ],
             [
              0.7777777777777778,
              "#fb9f3a"
             ],
             [
              0.8888888888888888,
              "#fdca26"
             ],
             [
              1,
              "#f0f921"
             ]
            ],
            "type": "histogram2dcontour"
           }
          ],
          "mesh3d": [
           {
            "colorbar": {
             "outlinewidth": 0,
             "ticks": ""
            },
            "type": "mesh3d"
           }
          ],
          "parcoords": [
           {
            "line": {
             "colorbar": {
              "outlinewidth": 0,
              "ticks": ""
             }
            },
            "type": "parcoords"
           }
          ],
          "pie": [
           {
            "automargin": true,
            "type": "pie"
           }
          ],
          "scatter": [
           {
            "marker": {
             "colorbar": {
              "outlinewidth": 0,
              "ticks": ""
             }
            },
            "type": "scatter"
           }
          ],
          "scatter3d": [
           {
            "line": {
             "colorbar": {
              "outlinewidth": 0,
              "ticks": ""
             }
            },
            "marker": {
             "colorbar": {
              "outlinewidth": 0,
              "ticks": ""
             }
            },
            "type": "scatter3d"
           }
          ],
          "scattercarpet": [
           {
            "marker": {
             "colorbar": {
              "outlinewidth": 0,
              "ticks": ""
             }
            },
            "type": "scattercarpet"
           }
          ],
          "scattergeo": [
           {
            "marker": {
             "colorbar": {
              "outlinewidth": 0,
              "ticks": ""
             }
            },
            "type": "scattergeo"
           }
          ],
          "scattergl": [
           {
            "marker": {
             "colorbar": {
              "outlinewidth": 0,
              "ticks": ""
             }
            },
            "type": "scattergl"
           }
          ],
          "scattermapbox": [
           {
            "marker": {
             "colorbar": {
              "outlinewidth": 0,
              "ticks": ""
             }
            },
            "type": "scattermapbox"
           }
          ],
          "scatterpolar": [
           {
            "marker": {
             "colorbar": {
              "outlinewidth": 0,
              "ticks": ""
             }
            },
            "type": "scatterpolar"
           }
          ],
          "scatterpolargl": [
           {
            "marker": {
             "colorbar": {
              "outlinewidth": 0,
              "ticks": ""
             }
            },
            "type": "scatterpolargl"
           }
          ],
          "scatterternary": [
           {
            "marker": {
             "colorbar": {
              "outlinewidth": 0,
              "ticks": ""
             }
            },
            "type": "scatterternary"
           }
          ],
          "surface": [
           {
            "colorbar": {
             "outlinewidth": 0,
             "ticks": ""
            },
            "colorscale": [
             [
              0,
              "#0d0887"
             ],
             [
              0.1111111111111111,
              "#46039f"
             ],
             [
              0.2222222222222222,
              "#7201a8"
             ],
             [
              0.3333333333333333,
              "#9c179e"
             ],
             [
              0.4444444444444444,
              "#bd3786"
             ],
             [
              0.5555555555555556,
              "#d8576b"
             ],
             [
              0.6666666666666666,
              "#ed7953"
             ],
             [
              0.7777777777777778,
              "#fb9f3a"
             ],
             [
              0.8888888888888888,
              "#fdca26"
             ],
             [
              1,
              "#f0f921"
             ]
            ],
            "type": "surface"
           }
          ],
          "table": [
           {
            "cells": {
             "fill": {
              "color": "#EBF0F8"
             },
             "line": {
              "color": "white"
             }
            },
            "header": {
             "fill": {
              "color": "#C8D4E3"
             },
             "line": {
              "color": "white"
             }
            },
            "type": "table"
           }
          ]
         },
         "layout": {
          "annotationdefaults": {
           "arrowcolor": "#2a3f5f",
           "arrowhead": 0,
           "arrowwidth": 1
          },
          "autotypenumbers": "strict",
          "coloraxis": {
           "colorbar": {
            "outlinewidth": 0,
            "ticks": ""
           }
          },
          "colorscale": {
           "diverging": [
            [
             0,
             "#8e0152"
            ],
            [
             0.1,
             "#c51b7d"
            ],
            [
             0.2,
             "#de77ae"
            ],
            [
             0.3,
             "#f1b6da"
            ],
            [
             0.4,
             "#fde0ef"
            ],
            [
             0.5,
             "#f7f7f7"
            ],
            [
             0.6,
             "#e6f5d0"
            ],
            [
             0.7,
             "#b8e186"
            ],
            [
             0.8,
             "#7fbc41"
            ],
            [
             0.9,
             "#4d9221"
            ],
            [
             1,
             "#276419"
            ]
           ],
           "sequential": [
            [
             0,
             "#0d0887"
            ],
            [
             0.1111111111111111,
             "#46039f"
            ],
            [
             0.2222222222222222,
             "#7201a8"
            ],
            [
             0.3333333333333333,
             "#9c179e"
            ],
            [
             0.4444444444444444,
             "#bd3786"
            ],
            [
             0.5555555555555556,
             "#d8576b"
            ],
            [
             0.6666666666666666,
             "#ed7953"
            ],
            [
             0.7777777777777778,
             "#fb9f3a"
            ],
            [
             0.8888888888888888,
             "#fdca26"
            ],
            [
             1,
             "#f0f921"
            ]
           ],
           "sequentialminus": [
            [
             0,
             "#0d0887"
            ],
            [
             0.1111111111111111,
             "#46039f"
            ],
            [
             0.2222222222222222,
             "#7201a8"
            ],
            [
             0.3333333333333333,
             "#9c179e"
            ],
            [
             0.4444444444444444,
             "#bd3786"
            ],
            [
             0.5555555555555556,
             "#d8576b"
            ],
            [
             0.6666666666666666,
             "#ed7953"
            ],
            [
             0.7777777777777778,
             "#fb9f3a"
            ],
            [
             0.8888888888888888,
             "#fdca26"
            ],
            [
             1,
             "#f0f921"
            ]
           ]
          },
          "colorway": [
           "#636efa",
           "#EF553B",
           "#00cc96",
           "#ab63fa",
           "#FFA15A",
           "#19d3f3",
           "#FF6692",
           "#B6E880",
           "#FF97FF",
           "#FECB52"
          ],
          "font": {
           "color": "#2a3f5f"
          },
          "geo": {
           "bgcolor": "white",
           "lakecolor": "white",
           "landcolor": "#E5ECF6",
           "showlakes": true,
           "showland": true,
           "subunitcolor": "white"
          },
          "hoverlabel": {
           "align": "left"
          },
          "hovermode": "closest",
          "mapbox": {
           "style": "light"
          },
          "paper_bgcolor": "white",
          "plot_bgcolor": "#E5ECF6",
          "polar": {
           "angularaxis": {
            "gridcolor": "white",
            "linecolor": "white",
            "ticks": ""
           },
           "bgcolor": "#E5ECF6",
           "radialaxis": {
            "gridcolor": "white",
            "linecolor": "white",
            "ticks": ""
           }
          },
          "scene": {
           "xaxis": {
            "backgroundcolor": "#E5ECF6",
            "gridcolor": "white",
            "gridwidth": 2,
            "linecolor": "white",
            "showbackground": true,
            "ticks": "",
            "zerolinecolor": "white"
           },
           "yaxis": {
            "backgroundcolor": "#E5ECF6",
            "gridcolor": "white",
            "gridwidth": 2,
            "linecolor": "white",
            "showbackground": true,
            "ticks": "",
            "zerolinecolor": "white"
           },
           "zaxis": {
            "backgroundcolor": "#E5ECF6",
            "gridcolor": "white",
            "gridwidth": 2,
            "linecolor": "white",
            "showbackground": true,
            "ticks": "",
            "zerolinecolor": "white"
           }
          },
          "shapedefaults": {
           "line": {
            "color": "#2a3f5f"
           }
          },
          "ternary": {
           "aaxis": {
            "gridcolor": "white",
            "linecolor": "white",
            "ticks": ""
           },
           "baxis": {
            "gridcolor": "white",
            "linecolor": "white",
            "ticks": ""
           },
           "bgcolor": "#E5ECF6",
           "caxis": {
            "gridcolor": "white",
            "linecolor": "white",
            "ticks": ""
           }
          },
          "title": {
           "x": 0.05
          },
          "xaxis": {
           "automargin": true,
           "gridcolor": "white",
           "linecolor": "white",
           "ticks": "",
           "title": {
            "standoff": 15
           },
           "zerolinecolor": "white",
           "zerolinewidth": 2
          },
          "yaxis": {
           "automargin": true,
           "gridcolor": "white",
           "linecolor": "white",
           "ticks": "",
           "title": {
            "standoff": 15
           },
           "zerolinecolor": "white",
           "zerolinewidth": 2
          }
         }
        },
        "xaxis": {
         "title": {
          "text": "RX Sample Rate"
         }
        },
        "yaxis": {
         "title": {
          "text": "Link State Post Boot"
         }
        }
       }
      },
      "text/html": [
       "<div>                            <div id=\"a542fd35-39da-400e-94f6-72d1ff923d2b\" class=\"plotly-graph-div\" style=\"height:525px; width:100%;\"></div>            <script type=\"text/javascript\">                require([\"plotly\"], function(Plotly) {                    window.PLOTLYENV=window.PLOTLYENV || {};                                    if (document.getElementById(\"a542fd35-39da-400e-94f6-72d1ff923d2b\")) {                    Plotly.newPlot(                        \"a542fd35-39da-400e-94f6-72d1ff923d2b\",                        [{\"name\": \"TX LINK STATE\", \"type\": \"scatter\", \"x\": [100000000, 101000000, 102000000, 128000000, 130000000, 132000000, 134000000, 135000000, 136000000, 137000000, 138000000, 139000000, 140000000, 141000000, 142000000, 143000000, 144000000, 145000000, 146000000, 147000000, 148000000, 149000000, 150000000, 151000000, 152000000, 153000000, 154000000, 156000000, 157000000, 159000000, 160000000, 161000000, 162000000, 163000000, 164000000, 165000000, 166000000, 167000000, 168000000, 169000000, 170000000, 171000000, 172000000, 173000000, 174000000, 175000000, 176000000, 177000000, 178000000, 179000000, 180000000, 181000000, 182000000, 183000000, 184000000, 185000000, 186000000, 187000000, 188000000, 189000000, 190000000, 191000000, 192000000, 193000000, 194000000, 195000000, 196000000, 197000000, 198000000, 199000000, 201000000, 202000000, 203000000, 204000000, 245000000, 247000000, 256000000, 263000000, 264000000, 265000000, 266000000, 267000000, 268000000, 269000000, 270000000, 271000000, 272000000, 273000000, 274000000, 275000000, 276000000, 277000000, 278000000, 279000000, 280000000, 281000000, 282000000, 283000000, 284000000, 285000000, 286000000, 287000000, 288000000, 289000000, 290000000, 291000000, 292000000, 293000000, 294000000, 295000000, 296000000, 297000000, 298000000, 299000000, 308000000, 309000000, 310000000, 314000000, 315000000, 316000000, 318000000, 320000000, 321000000, 322000000, 323000000, 324000000, 325000000, 326000000, 327000000, 328000000, 329000000, 330000000, 331000000, 332000000, 333000000, 334000000, 335000000, 336000000, 337000000, 338000000, 339000000, 340000000, 341000000, 342000000, 343000000, 344000000, 345000000, 346000000, 347000000, 348000000, 349000000, 350000000, 351000000, 352000000, 353000000, 354000000, 355000000, 356000000, 357000000, 358000000, 359000000, 360000000, 361000000, 362000000, 363000000, 364000000, 365000000, 366000000, 367000000, 368000000, 369000000, 370000000, 371000000, 372000000, 373000000, 374000000, 375000000, 376000000, 377000000, 378000000, 379000000, 380000000, 381000000, 382000000, 383000000, 384000000, 385000000, 386000000, 387000000, 388000000, 389000000, 390000000, 391000000, 392000000, 393000000, 394000000, 395000000, 396000000, 397000000, 398000000, 399000000], \"y\": [\"DATA\", \"DATA\", \"DATA\", \"DATA\", \"DATA\", \"DATA\", \"DATA\", \"DATA\", \"DATA\", \"DATA\", \"DATA\", \"DATA\", \"DATA\", \"DATA\", \"DATA\", \"DATA\", \"DATA\", \"DATA\", \"DATA\", \"DATA\", \"DATA\", \"DATA\", \"DATA\", \"DATA\", \"DATA\", \"DATA\", \"DATA\", \"DATA\", \"DATA\", \"DATA\", \"DATA\", \"DATA\", \"DATA\", \"DATA\", \"DATA\", \"DATA\", \"DATA\", \"DATA\", \"DATA\", \"DATA\", \"DATA\", \"DATA\", \"DATA\", \"DATA\", \"DATA\", \"DATA\", \"DATA\", \"DATA\", \"DATA\", \"DATA\", \"DATA\", \"DATA\", \"DATA\", \"DATA\", \"DATA\", \"DATA\", \"DATA\", \"DATA\", \"DATA\", \"DATA\", \"DATA\", \"DATA\", \"DATA\", \"DATA\", \"DATA\", \"DATA\", \"DATA\", \"DATA\", \"DATA\", \"DATA\", \"DATA\", \"DATA\", \"DATA\", \"DATA\", \"DATA\", \"DATA\", \"DATA\", \"DATA\", \"DATA\", \"DATA\", \"DATA\", \"DATA\", \"DATA\", \"DATA\", \"DATA\", \"DATA\", \"DATA\", \"DATA\", \"DATA\", \"DATA\", \"DATA\", \"DATA\", \"DATA\", \"DATA\", \"DATA\", \"DATA\", \"DATA\", \"DATA\", \"DATA\", \"DATA\", \"DATA\", \"DATA\", \"DATA\", \"DATA\", \"DATA\", \"DATA\", \"DATA\", \"DATA\", \"DATA\", \"DATA\", \"DATA\", \"DATA\", \"DATA\", \"DATA\", \"DATA\", \"DATA\", \"DATA\", \"DATA\", \"DATA\", \"DATA\", \"DATA\", \"DATA\", \"DATA\", \"DATA\", \"DATA\", \"DATA\", \"DATA\", \"DATA\", \"DATA\", \"DATA\", \"DATA\", \"DATA\", \"DATA\", \"DATA\", \"DATA\", \"DATA\", \"DATA\", \"DATA\", \"DATA\", \"DATA\", \"DATA\", \"DATA\", \"DATA\", \"DATA\", \"DATA\", \"DATA\", \"DATA\", \"DATA\", \"DATA\", \"DATA\", \"DATA\", \"DATA\", \"DATA\", \"DATA\", \"DATA\", \"DATA\", \"DATA\", \"DATA\", \"DATA\", \"DATA\", \"DATA\", \"DATA\", \"DATA\", \"DATA\", \"DATA\", \"DATA\", \"DATA\", \"DATA\", \"DATA\", \"DATA\", \"DATA\", \"DATA\", \"DATA\", \"DATA\", \"DATA\", \"DATA\", \"DATA\", \"DATA\", \"DATA\", \"DATA\", \"DATA\", \"DATA\", \"DATA\", \"DATA\", \"DATA\", \"DATA\", \"DATA\", \"DATA\", \"DATA\", \"DATA\", \"DATA\", \"DATA\", \"DATA\", \"DATA\", \"DATA\", \"DATA\", \"DATA\", \"DATA\", \"DATA\", \"DATA\", \"DATA\"]}, {\"name\": \"RX LINK STATE\", \"type\": \"scatter\", \"x\": [100000000, 101000000, 102000000, 128000000, 130000000, 132000000, 134000000, 135000000, 136000000, 137000000, 138000000, 139000000, 140000000, 141000000, 142000000, 143000000, 144000000, 145000000, 146000000, 147000000, 148000000, 149000000, 150000000, 151000000, 152000000, 153000000, 154000000, 156000000, 157000000, 159000000, 160000000, 161000000, 162000000, 163000000, 164000000, 165000000, 166000000, 167000000, 168000000, 169000000, 170000000, 171000000, 172000000, 173000000, 174000000, 175000000, 176000000, 177000000, 178000000, 179000000, 180000000, 181000000, 182000000, 183000000, 184000000, 185000000, 186000000, 187000000, 188000000, 189000000, 190000000, 191000000, 192000000, 193000000, 194000000, 195000000, 196000000, 197000000, 198000000, 199000000, 201000000, 202000000, 203000000, 204000000, 245000000, 247000000, 256000000, 263000000, 264000000, 265000000, 266000000, 267000000, 268000000, 269000000, 270000000, 271000000, 272000000, 273000000, 274000000, 275000000, 276000000, 277000000, 278000000, 279000000, 280000000, 281000000, 282000000, 283000000, 284000000, 285000000, 286000000, 287000000, 288000000, 289000000, 290000000, 291000000, 292000000, 293000000, 294000000, 295000000, 296000000, 297000000, 298000000, 299000000, 308000000, 309000000, 310000000, 314000000, 315000000, 316000000, 318000000, 320000000, 321000000, 322000000, 323000000, 324000000, 325000000, 326000000, 327000000, 328000000, 329000000, 330000000, 331000000, 332000000, 333000000, 334000000, 335000000, 336000000, 337000000, 338000000, 339000000, 340000000, 341000000, 342000000, 343000000, 344000000, 345000000, 346000000, 347000000, 348000000, 349000000, 350000000, 351000000, 352000000, 353000000, 354000000, 355000000, 356000000, 357000000, 358000000, 359000000, 360000000, 361000000, 362000000, 363000000, 364000000, 365000000, 366000000, 367000000, 368000000, 369000000, 370000000, 371000000, 372000000, 373000000, 374000000, 375000000, 376000000, 377000000, 378000000, 379000000, 380000000, 381000000, 382000000, 383000000, 384000000, 385000000, 386000000, 387000000, 388000000, 389000000, 390000000, 391000000, 392000000, 393000000, 394000000, 395000000, 396000000, 397000000, 398000000, 399000000], \"y\": [\"CGS\", \"CGS\", \"CGS\", \"DATA\", \"DATA\", \"DATA\", \"DATA\", \"DATA\", \"DATA\", \"DATA\", \"DATA\", \"DATA\", \"DATA\", \"DATA\", \"DATA\", \"DATA\", \"DATA\", \"DATA\", \"DATA\", \"DATA\", \"DATA\", \"DATA\", \"DATA\", \"DATA\", \"DATA\", \"DATA\", \"DATA\", \"DATA\", \"DATA\", \"DATA\", \"DATA\", \"DATA\", \"DATA\", \"CGS\", \"DATA\", \"DATA\", \"CGS\", \"CGS\", \"CGS\", \"CGS\", \"CGS\", \"CGS\", \"CGS\", \"CGS\", \"CGS\", \"CGS\", \"CGS\", \"CGS\", \"CGS\", \"CGS\", \"CGS\", \"CGS\", \"CGS\", \"CGS\", \"CGS\", \"CGS\", \"CGS\", \"CGS\", \"CGS\", \"CGS\", \"CGS\", \"CGS\", \"CGS\", \"CGS\", \"CGS\", \"CGS\", \"CGS\", \"CGS\", \"CGS\", \"CGS\", \"CGS\", \"CGS\", \"CGS\", \"CGS\", \"DATA\", \"DATA\", \"DATA\", \"DATA\", \"DATA\", \"DATA\", \"DATA\", \"DATA\", \"DATA\", \"DATA\", \"DATA\", \"DATA\", \"DATA\", \"DATA\", \"DATA\", \"DATA\", \"DATA\", \"DATA\", \"DATA\", \"DATA\", \"DATA\", \"DATA\", \"DATA\", \"DATA\", \"DATA\", \"DATA\", \"DATA\", \"DATA\", \"DATA\", \"DATA\", \"DATA\", \"DATA\", \"DATA\", \"DATA\", \"DATA\", \"DATA\", \"DATA\", \"DATA\", \"DATA\", \"DATA\", \"DATA\", \"DATA\", \"DATA\", \"DATA\", \"DATA\", \"DATA\", \"DATA\", \"DATA\", \"DATA\", \"DATA\", \"DATA\", \"DATA\", \"DATA\", \"DATA\", \"DATA\", \"DATA\", \"DATA\", \"DATA\", \"DATA\", \"DATA\", \"DATA\", \"DATA\", \"DATA\", \"DATA\", \"DATA\", \"DATA\", \"DATA\", \"CGS\", \"CGS\", \"DATA\", \"DATA\", \"CGS\", \"CGS\", \"CGS\", \"CGS\", \"CGS\", \"CGS\", \"CGS\", \"CGS\", \"CGS\", \"CGS\", \"CGS\", \"CGS\", \"CGS\", \"CGS\", \"CGS\", \"CGS\", \"CGS\", \"CGS\", \"CGS\", \"CGS\", \"CGS\", \"CGS\", \"CGS\", \"CGS\", \"CGS\", \"CGS\", \"CGS\", \"CGS\", \"CGS\", \"CGS\", \"CGS\", \"CGS\", \"CGS\", \"CGS\", \"CGS\", \"CGS\", \"CGS\", \"CGS\", \"CGS\", \"CGS\", \"CGS\", \"CGS\", \"CGS\", \"CGS\", \"CGS\", \"CGS\", \"CGS\", \"CGS\", \"CGS\", \"CGS\", \"CGS\", \"CGS\", \"CGS\", \"CGS\", \"CGS\", \"CGS\"]}],                        {\"template\": {\"data\": {\"bar\": [{\"error_x\": {\"color\": \"#2a3f5f\"}, \"error_y\": {\"color\": \"#2a3f5f\"}, \"marker\": {\"line\": {\"color\": \"#E5ECF6\", \"width\": 0.5}}, \"type\": \"bar\"}], \"barpolar\": [{\"marker\": {\"line\": {\"color\": \"#E5ECF6\", \"width\": 0.5}}, \"type\": \"barpolar\"}], \"carpet\": [{\"aaxis\": {\"endlinecolor\": \"#2a3f5f\", \"gridcolor\": \"white\", \"linecolor\": \"white\", \"minorgridcolor\": \"white\", \"startlinecolor\": \"#2a3f5f\"}, \"baxis\": {\"endlinecolor\": \"#2a3f5f\", \"gridcolor\": \"white\", \"linecolor\": \"white\", \"minorgridcolor\": \"white\", \"startlinecolor\": \"#2a3f5f\"}, \"type\": \"carpet\"}], \"choropleth\": [{\"colorbar\": {\"outlinewidth\": 0, \"ticks\": \"\"}, \"type\": \"choropleth\"}], \"contour\": [{\"colorbar\": {\"outlinewidth\": 0, \"ticks\": \"\"}, \"colorscale\": [[0.0, \"#0d0887\"], [0.1111111111111111, \"#46039f\"], [0.2222222222222222, \"#7201a8\"], [0.3333333333333333, \"#9c179e\"], [0.4444444444444444, \"#bd3786\"], [0.5555555555555556, \"#d8576b\"], [0.6666666666666666, \"#ed7953\"], [0.7777777777777778, \"#fb9f3a\"], [0.8888888888888888, \"#fdca26\"], [1.0, \"#f0f921\"]], \"type\": \"contour\"}], \"contourcarpet\": [{\"colorbar\": {\"outlinewidth\": 0, \"ticks\": \"\"}, \"type\": \"contourcarpet\"}], \"heatmap\": [{\"colorbar\": {\"outlinewidth\": 0, \"ticks\": \"\"}, \"colorscale\": [[0.0, \"#0d0887\"], [0.1111111111111111, \"#46039f\"], [0.2222222222222222, \"#7201a8\"], [0.3333333333333333, \"#9c179e\"], [0.4444444444444444, \"#bd3786\"], [0.5555555555555556, \"#d8576b\"], [0.6666666666666666, \"#ed7953\"], [0.7777777777777778, \"#fb9f3a\"], [0.8888888888888888, \"#fdca26\"], [1.0, \"#f0f921\"]], \"type\": \"heatmap\"}], \"heatmapgl\": [{\"colorbar\": {\"outlinewidth\": 0, \"ticks\": \"\"}, \"colorscale\": [[0.0, \"#0d0887\"], [0.1111111111111111, \"#46039f\"], [0.2222222222222222, \"#7201a8\"], [0.3333333333333333, \"#9c179e\"], [0.4444444444444444, \"#bd3786\"], [0.5555555555555556, \"#d8576b\"], [0.6666666666666666, \"#ed7953\"], [0.7777777777777778, \"#fb9f3a\"], [0.8888888888888888, \"#fdca26\"], [1.0, \"#f0f921\"]], \"type\": \"heatmapgl\"}], \"histogram\": [{\"marker\": {\"colorbar\": {\"outlinewidth\": 0, \"ticks\": \"\"}}, \"type\": \"histogram\"}], \"histogram2d\": [{\"colorbar\": {\"outlinewidth\": 0, \"ticks\": \"\"}, \"colorscale\": [[0.0, \"#0d0887\"], [0.1111111111111111, \"#46039f\"], [0.2222222222222222, \"#7201a8\"], [0.3333333333333333, \"#9c179e\"], [0.4444444444444444, \"#bd3786\"], [0.5555555555555556, \"#d8576b\"], [0.6666666666666666, \"#ed7953\"], [0.7777777777777778, \"#fb9f3a\"], [0.8888888888888888, \"#fdca26\"], [1.0, \"#f0f921\"]], \"type\": \"histogram2d\"}], \"histogram2dcontour\": [{\"colorbar\": {\"outlinewidth\": 0, \"ticks\": \"\"}, \"colorscale\": [[0.0, \"#0d0887\"], [0.1111111111111111, \"#46039f\"], [0.2222222222222222, \"#7201a8\"], [0.3333333333333333, \"#9c179e\"], [0.4444444444444444, \"#bd3786\"], [0.5555555555555556, \"#d8576b\"], [0.6666666666666666, \"#ed7953\"], [0.7777777777777778, \"#fb9f3a\"], [0.8888888888888888, \"#fdca26\"], [1.0, \"#f0f921\"]], \"type\": \"histogram2dcontour\"}], \"mesh3d\": [{\"colorbar\": {\"outlinewidth\": 0, \"ticks\": \"\"}, \"type\": \"mesh3d\"}], \"parcoords\": [{\"line\": {\"colorbar\": {\"outlinewidth\": 0, \"ticks\": \"\"}}, \"type\": \"parcoords\"}], \"pie\": [{\"automargin\": true, \"type\": \"pie\"}], \"scatter\": [{\"marker\": {\"colorbar\": {\"outlinewidth\": 0, \"ticks\": \"\"}}, \"type\": \"scatter\"}], \"scatter3d\": [{\"line\": {\"colorbar\": {\"outlinewidth\": 0, \"ticks\": \"\"}}, \"marker\": {\"colorbar\": {\"outlinewidth\": 0, \"ticks\": \"\"}}, \"type\": \"scatter3d\"}], \"scattercarpet\": [{\"marker\": {\"colorbar\": {\"outlinewidth\": 0, \"ticks\": \"\"}}, \"type\": \"scattercarpet\"}], \"scattergeo\": [{\"marker\": {\"colorbar\": {\"outlinewidth\": 0, \"ticks\": \"\"}}, \"type\": \"scattergeo\"}], \"scattergl\": [{\"marker\": {\"colorbar\": {\"outlinewidth\": 0, \"ticks\": \"\"}}, \"type\": \"scattergl\"}], \"scattermapbox\": [{\"marker\": {\"colorbar\": {\"outlinewidth\": 0, \"ticks\": \"\"}}, \"type\": \"scattermapbox\"}], \"scatterpolar\": [{\"marker\": {\"colorbar\": {\"outlinewidth\": 0, \"ticks\": \"\"}}, \"type\": \"scatterpolar\"}], \"scatterpolargl\": [{\"marker\": {\"colorbar\": {\"outlinewidth\": 0, \"ticks\": \"\"}}, \"type\": \"scatterpolargl\"}], \"scatterternary\": [{\"marker\": {\"colorbar\": {\"outlinewidth\": 0, \"ticks\": \"\"}}, \"type\": \"scatterternary\"}], \"surface\": [{\"colorbar\": {\"outlinewidth\": 0, \"ticks\": \"\"}, \"colorscale\": [[0.0, \"#0d0887\"], [0.1111111111111111, \"#46039f\"], [0.2222222222222222, \"#7201a8\"], [0.3333333333333333, \"#9c179e\"], [0.4444444444444444, \"#bd3786\"], [0.5555555555555556, \"#d8576b\"], [0.6666666666666666, \"#ed7953\"], [0.7777777777777778, \"#fb9f3a\"], [0.8888888888888888, \"#fdca26\"], [1.0, \"#f0f921\"]], \"type\": \"surface\"}], \"table\": [{\"cells\": {\"fill\": {\"color\": \"#EBF0F8\"}, \"line\": {\"color\": \"white\"}}, \"header\": {\"fill\": {\"color\": \"#C8D4E3\"}, \"line\": {\"color\": \"white\"}}, \"type\": \"table\"}]}, \"layout\": {\"annotationdefaults\": {\"arrowcolor\": \"#2a3f5f\", \"arrowhead\": 0, \"arrowwidth\": 1}, \"autotypenumbers\": \"strict\", \"coloraxis\": {\"colorbar\": {\"outlinewidth\": 0, \"ticks\": \"\"}}, \"colorscale\": {\"diverging\": [[0, \"#8e0152\"], [0.1, \"#c51b7d\"], [0.2, \"#de77ae\"], [0.3, \"#f1b6da\"], [0.4, \"#fde0ef\"], [0.5, \"#f7f7f7\"], [0.6, \"#e6f5d0\"], [0.7, \"#b8e186\"], [0.8, \"#7fbc41\"], [0.9, \"#4d9221\"], [1, \"#276419\"]], \"sequential\": [[0.0, \"#0d0887\"], [0.1111111111111111, \"#46039f\"], [0.2222222222222222, \"#7201a8\"], [0.3333333333333333, \"#9c179e\"], [0.4444444444444444, \"#bd3786\"], [0.5555555555555556, \"#d8576b\"], [0.6666666666666666, \"#ed7953\"], [0.7777777777777778, \"#fb9f3a\"], [0.8888888888888888, \"#fdca26\"], [1.0, \"#f0f921\"]], \"sequentialminus\": [[0.0, \"#0d0887\"], [0.1111111111111111, \"#46039f\"], [0.2222222222222222, \"#7201a8\"], [0.3333333333333333, \"#9c179e\"], [0.4444444444444444, \"#bd3786\"], [0.5555555555555556, \"#d8576b\"], [0.6666666666666666, \"#ed7953\"], [0.7777777777777778, \"#fb9f3a\"], [0.8888888888888888, \"#fdca26\"], [1.0, \"#f0f921\"]]}, \"colorway\": [\"#636efa\", \"#EF553B\", \"#00cc96\", \"#ab63fa\", \"#FFA15A\", \"#19d3f3\", \"#FF6692\", \"#B6E880\", \"#FF97FF\", \"#FECB52\"], \"font\": {\"color\": \"#2a3f5f\"}, \"geo\": {\"bgcolor\": \"white\", \"lakecolor\": \"white\", \"landcolor\": \"#E5ECF6\", \"showlakes\": true, \"showland\": true, \"subunitcolor\": \"white\"}, \"hoverlabel\": {\"align\": \"left\"}, \"hovermode\": \"closest\", \"mapbox\": {\"style\": \"light\"}, \"paper_bgcolor\": \"white\", \"plot_bgcolor\": \"#E5ECF6\", \"polar\": {\"angularaxis\": {\"gridcolor\": \"white\", \"linecolor\": \"white\", \"ticks\": \"\"}, \"bgcolor\": \"#E5ECF6\", \"radialaxis\": {\"gridcolor\": \"white\", \"linecolor\": \"white\", \"ticks\": \"\"}}, \"scene\": {\"xaxis\": {\"backgroundcolor\": \"#E5ECF6\", \"gridcolor\": \"white\", \"gridwidth\": 2, \"linecolor\": \"white\", \"showbackground\": true, \"ticks\": \"\", \"zerolinecolor\": \"white\"}, \"yaxis\": {\"backgroundcolor\": \"#E5ECF6\", \"gridcolor\": \"white\", \"gridwidth\": 2, \"linecolor\": \"white\", \"showbackground\": true, \"ticks\": \"\", \"zerolinecolor\": \"white\"}, \"zaxis\": {\"backgroundcolor\": \"#E5ECF6\", \"gridcolor\": \"white\", \"gridwidth\": 2, \"linecolor\": \"white\", \"showbackground\": true, \"ticks\": \"\", \"zerolinecolor\": \"white\"}}, \"shapedefaults\": {\"line\": {\"color\": \"#2a3f5f\"}}, \"ternary\": {\"aaxis\": {\"gridcolor\": \"white\", \"linecolor\": \"white\", \"ticks\": \"\"}, \"baxis\": {\"gridcolor\": \"white\", \"linecolor\": \"white\", \"ticks\": \"\"}, \"bgcolor\": \"#E5ECF6\", \"caxis\": {\"gridcolor\": \"white\", \"linecolor\": \"white\", \"ticks\": \"\"}}, \"title\": {\"x\": 0.05}, \"xaxis\": {\"automargin\": true, \"gridcolor\": \"white\", \"linecolor\": \"white\", \"ticks\": \"\", \"title\": {\"standoff\": 15}, \"zerolinecolor\": \"white\", \"zerolinewidth\": 2}, \"yaxis\": {\"automargin\": true, \"gridcolor\": \"white\", \"linecolor\": \"white\", \"ticks\": \"\", \"title\": {\"standoff\": 15}, \"zerolinecolor\": \"white\", \"zerolinewidth\": 2}}}, \"xaxis\": {\"title\": {\"text\": \"RX Sample Rate\"}}, \"yaxis\": {\"title\": {\"text\": \"Link State Post Boot\"}}},                        {\"responsive\": true}                    ).then(function(){\n",
       "                            \n",
       "var gd = document.getElementById('a542fd35-39da-400e-94f6-72d1ff923d2b');\n",
       "var x = new MutationObserver(function (mutations, observer) {{\n",
       "        var display = window.getComputedStyle(gd).display;\n",
       "        if (!display || display === 'none') {{\n",
       "            console.log([gd, 'removed!']);\n",
       "            Plotly.purge(gd);\n",
       "            observer.disconnect();\n",
       "        }}\n",
       "}});\n",
       "\n",
       "// Listen for the removal of the full notebook cells\n",
       "var notebookContainer = gd.closest('#notebook-container');\n",
       "if (notebookContainer) {{\n",
       "    x.observe(notebookContainer, {childList: true});\n",
       "}}\n",
       "\n",
       "// Listen for the clearing of the current output cell\n",
       "var outputEl = gd.closest('.output');\n",
       "if (outputEl) {{\n",
       "    x.observe(outputEl, {childList: true});\n",
       "}}\n",
       "\n",
       "                        })                };                });            </script>        </div>"
      ]
     },
     "metadata": {},
     "output_type": "display_data"
    }
   ],
   "source": [
    "trace0 = Scatter(\n",
    "  x=results_tx['rx_sample_rate'],\n",
    "  y=results_tx['tx_link_state'],\n",
    "  name='TX LINK STATE'\n",
    ")\n",
    "trace1 = Scatter(\n",
    "  x=results_rx['rx_sample_rate'],\n",
    "  y=results_rx['rx_link_state'],\n",
    "  name='RX LINK STATE'\n",
    ")\n",
    "fig = go.Figure()\n",
    "fig.add_trace(trace0)\n",
    "fig.add_trace(trace1)\n",
    "fig.update_layout(\n",
    "    xaxis = dict(title='RX Sample Rate'),\n",
    "    yaxis = dict(title='Link State Post Boot')\n",
    ")\n",
    "iplot(fig)"
   ]
  }
 ],
 "metadata": {
  "kernelspec": {
   "display_name": "Python 3.8.10 64-bit",
   "language": "python",
   "name": "python3810jvsc74a57bd0916dbcbb3f70747c44a77c7bcd40155683ae19c65e1c03b4aa3499c5328201f1"
  },
  "language_info": {
   "codemirror_mode": {
    "name": "ipython",
    "version": 3
   },
   "file_extension": ".py",
   "mimetype": "text/x-python",
   "name": "python",
   "nbconvert_exporter": "python",
   "pygments_lexer": "ipython3",
   "version": "3.8.10"
  }
 },
 "nbformat": 4,
 "nbformat_minor": 5
}
