{
 "cells": [
  {
   "cell_type": "markdown",
   "id": "74f91715",
   "metadata": {},
   "source": [
    "# Analysis of matched RX and TX rates across valid ranges\n",
    "\n",
    "This notebook analyzes the link status of samples rates from 100 MHz to 500 MHz, where both the TX and RX rates at the framers are the same. This is primarily looking for issues and/or patherns with the clocking configurations to determine if there are issues with JIF or another component in the system.\n",
    "\n",
    "To scale the sample rate from 100 MHz to 500 MHz, decimators, interpolators, ADC rate, and DAC rate are automatically determine to be within valid ranges.\n",
    "\n",
    "Details of the system:\n",
    "- Hardware: AD9081 + ZCU102\n",
    "- Linux master branch from 3/23/2022\n",
    "- HDL master branch from 3/23/2022\n",
    "- VCXO 122.88 MHz\n",
    "- TX JESD Mode 9, RX JESD Mode 10.00"
   ]
  },
  {
   "cell_type": "code",
   "execution_count": 1,
   "id": "172ff822",
   "metadata": {},
   "outputs": [],
   "source": [
    "import json\n",
    "import glob\n",
    "import pandas as pd\n",
    "from matplotlib import pyplot as plt\n",
    "import numpy as np\n",
    "#!pip install pyqt5\n",
    "%matplotlib inline"
   ]
  },
  {
   "cell_type": "markdown",
   "id": "18698077",
   "metadata": {},
   "source": [
    "## Import and filter data to extract desired log fields"
   ]
  },
  {
   "cell_type": "code",
   "execution_count": 2,
   "id": "685d76ae",
   "metadata": {},
   "outputs": [
    {
     "data": {
      "text/html": [
       "<div>\n",
       "<style scoped>\n",
       "    .dataframe tbody tr th:only-of-type {\n",
       "        vertical-align: middle;\n",
       "    }\n",
       "\n",
       "    .dataframe tbody tr th {\n",
       "        vertical-align: top;\n",
       "    }\n",
       "\n",
       "    .dataframe thead th {\n",
       "        text-align: right;\n",
       "    }\n",
       "</style>\n",
       "<table border=\"1\" class=\"dataframe\">\n",
       "  <thead>\n",
       "    <tr style=\"text-align: right;\">\n",
       "      <th></th>\n",
       "      <th>status</th>\n",
       "      <th>rx_lane_rate</th>\n",
       "      <th>tx_lane_rate</th>\n",
       "      <th>rx_sample_rate</th>\n",
       "      <th>tx_sample_rate</th>\n",
       "      <th>DAC_freq</th>\n",
       "      <th>ADC_freq</th>\n",
       "      <th>fddc</th>\n",
       "      <th>cddc</th>\n",
       "      <th>fduc</th>\n",
       "      <th>cduc</th>\n",
       "      <th>out_dividers</th>\n",
       "      <th>84a90000.axi-jesd204-rx</th>\n",
       "      <th>84b90000.axi-jesd204-tx</th>\n",
       "    </tr>\n",
       "  </thead>\n",
       "  <tbody>\n",
       "    <tr>\n",
       "      <th>154</th>\n",
       "      <td>failed</td>\n",
       "      <td>9.640000e+09</td>\n",
       "      <td>9.640000e+09</td>\n",
       "      <td>241000000</td>\n",
       "      <td>241000000</td>\n",
       "      <td>3856000000</td>\n",
       "      <td>1928000000</td>\n",
       "      <td>4</td>\n",
       "      <td>2</td>\n",
       "      <td>8</td>\n",
       "      <td>2</td>\n",
       "      <td>10 / 12 / 12 / 384 / 384</td>\n",
       "      <td>disabled</td>\n",
       "      <td>disabled</td>\n",
       "    </tr>\n",
       "    <tr>\n",
       "      <th>134</th>\n",
       "      <td>failed</td>\n",
       "      <td>4.560000e+09</td>\n",
       "      <td>4.560000e+09</td>\n",
       "      <td>114000000</td>\n",
       "      <td>114000000</td>\n",
       "      <td>3648000000</td>\n",
       "      <td>1824000000</td>\n",
       "      <td>8</td>\n",
       "      <td>2</td>\n",
       "      <td>8</td>\n",
       "      <td>4</td>\n",
       "      <td>24 / 24 / 30 / 768 / 768</td>\n",
       "      <td>disabled</td>\n",
       "      <td>disabled</td>\n",
       "    </tr>\n",
       "    <tr>\n",
       "      <th>136</th>\n",
       "      <td>failed</td>\n",
       "      <td>8.560000e+09</td>\n",
       "      <td>8.560000e+09</td>\n",
       "      <td>214000000</td>\n",
       "      <td>214000000</td>\n",
       "      <td>3424000000</td>\n",
       "      <td>1712000000</td>\n",
       "      <td>4</td>\n",
       "      <td>2</td>\n",
       "      <td>8</td>\n",
       "      <td>2</td>\n",
       "      <td>12 / 12 / 30 / 384 / 384</td>\n",
       "      <td>disabled</td>\n",
       "      <td>disabled</td>\n",
       "    </tr>\n",
       "    <tr>\n",
       "      <th>137</th>\n",
       "      <td>failed</td>\n",
       "      <td>1.528000e+10</td>\n",
       "      <td>1.528000e+10</td>\n",
       "      <td>382000000</td>\n",
       "      <td>382000000</td>\n",
       "      <td>6112000000</td>\n",
       "      <td>3056000000</td>\n",
       "      <td>4</td>\n",
       "      <td>2</td>\n",
       "      <td>8</td>\n",
       "      <td>2</td>\n",
       "      <td>5 / 8 / 8 / 256 / 256</td>\n",
       "      <td>disabled</td>\n",
       "      <td>disabled</td>\n",
       "    </tr>\n",
       "    <tr>\n",
       "      <th>247</th>\n",
       "      <td>failed</td>\n",
       "      <td>1.412000e+10</td>\n",
       "      <td>1.412000e+10</td>\n",
       "      <td>353000000</td>\n",
       "      <td>353000000</td>\n",
       "      <td>5648000000</td>\n",
       "      <td>2824000000</td>\n",
       "      <td>4</td>\n",
       "      <td>2</td>\n",
       "      <td>8</td>\n",
       "      <td>2</td>\n",
       "      <td>5 / 8 / 8 / 256 / 256</td>\n",
       "      <td>disabled</td>\n",
       "      <td>disabled</td>\n",
       "    </tr>\n",
       "    <tr>\n",
       "      <th>...</th>\n",
       "      <td>...</td>\n",
       "      <td>...</td>\n",
       "      <td>...</td>\n",
       "      <td>...</td>\n",
       "      <td>...</td>\n",
       "      <td>...</td>\n",
       "      <td>...</td>\n",
       "      <td>...</td>\n",
       "      <td>...</td>\n",
       "      <td>...</td>\n",
       "      <td>...</td>\n",
       "      <td>...</td>\n",
       "      <td>...</td>\n",
       "      <td>...</td>\n",
       "    </tr>\n",
       "    <tr>\n",
       "      <th>138</th>\n",
       "      <td>passed</td>\n",
       "      <td>5.480000e+09</td>\n",
       "      <td>5.480000e+09</td>\n",
       "      <td>137000000</td>\n",
       "      <td>137000000</td>\n",
       "      <td>3288000000</td>\n",
       "      <td>1644000000</td>\n",
       "      <td>6</td>\n",
       "      <td>2</td>\n",
       "      <td>6</td>\n",
       "      <td>4</td>\n",
       "      <td>18 / 18 / 30 / 576 / 576</td>\n",
       "      <td>enabled</td>\n",
       "      <td>enabled</td>\n",
       "    </tr>\n",
       "    <tr>\n",
       "      <th>139</th>\n",
       "      <td>passed</td>\n",
       "      <td>1.012000e+10</td>\n",
       "      <td>1.012000e+10</td>\n",
       "      <td>253000000</td>\n",
       "      <td>253000000</td>\n",
       "      <td>4048000000</td>\n",
       "      <td>2024000000</td>\n",
       "      <td>4</td>\n",
       "      <td>2</td>\n",
       "      <td>8</td>\n",
       "      <td>2</td>\n",
       "      <td>12 / 12 / 30 / 384 / 3456</td>\n",
       "      <td>enabled</td>\n",
       "      <td>enabled</td>\n",
       "    </tr>\n",
       "    <tr>\n",
       "      <th>140</th>\n",
       "      <td>passed</td>\n",
       "      <td>7.960000e+09</td>\n",
       "      <td>7.960000e+09</td>\n",
       "      <td>199000000</td>\n",
       "      <td>199000000</td>\n",
       "      <td>3184000000</td>\n",
       "      <td>1592000000</td>\n",
       "      <td>4</td>\n",
       "      <td>2</td>\n",
       "      <td>8</td>\n",
       "      <td>2</td>\n",
       "      <td>5 / 16 / 16 / 512 / 512</td>\n",
       "      <td>enabled</td>\n",
       "      <td>enabled</td>\n",
       "    </tr>\n",
       "    <tr>\n",
       "      <th>109</th>\n",
       "      <td>passed</td>\n",
       "      <td>7.320000e+09</td>\n",
       "      <td>7.320000e+09</td>\n",
       "      <td>183000000</td>\n",
       "      <td>183000000</td>\n",
       "      <td>2928000000</td>\n",
       "      <td>1464000000</td>\n",
       "      <td>4</td>\n",
       "      <td>2</td>\n",
       "      <td>8</td>\n",
       "      <td>2</td>\n",
       "      <td>5 / 16 / 16 / 512 / 512</td>\n",
       "      <td>enabled</td>\n",
       "      <td>enabled</td>\n",
       "    </tr>\n",
       "    <tr>\n",
       "      <th>309</th>\n",
       "      <td>passed</td>\n",
       "      <td>1.172000e+10</td>\n",
       "      <td>1.172000e+10</td>\n",
       "      <td>293000000</td>\n",
       "      <td>293000000</td>\n",
       "      <td>4688000000</td>\n",
       "      <td>2344000000</td>\n",
       "      <td>4</td>\n",
       "      <td>2</td>\n",
       "      <td>8</td>\n",
       "      <td>2</td>\n",
       "      <td>10 / 10 / 50 / 320 / 320</td>\n",
       "      <td>enabled</td>\n",
       "      <td>enabled</td>\n",
       "    </tr>\n",
       "  </tbody>\n",
       "</table>\n",
       "<p>310 rows × 14 columns</p>\n",
       "</div>"
      ],
      "text/plain": [
       "     status  rx_lane_rate  tx_lane_rate  rx_sample_rate  tx_sample_rate  \\\n",
       "154  failed  9.640000e+09  9.640000e+09       241000000       241000000   \n",
       "134  failed  4.560000e+09  4.560000e+09       114000000       114000000   \n",
       "136  failed  8.560000e+09  8.560000e+09       214000000       214000000   \n",
       "137  failed  1.528000e+10  1.528000e+10       382000000       382000000   \n",
       "247  failed  1.412000e+10  1.412000e+10       353000000       353000000   \n",
       "..      ...           ...           ...             ...             ...   \n",
       "138  passed  5.480000e+09  5.480000e+09       137000000       137000000   \n",
       "139  passed  1.012000e+10  1.012000e+10       253000000       253000000   \n",
       "140  passed  7.960000e+09  7.960000e+09       199000000       199000000   \n",
       "109  passed  7.320000e+09  7.320000e+09       183000000       183000000   \n",
       "309  passed  1.172000e+10  1.172000e+10       293000000       293000000   \n",
       "\n",
       "       DAC_freq    ADC_freq  fddc  cddc  fduc  cduc  \\\n",
       "154  3856000000  1928000000     4     2     8     2   \n",
       "134  3648000000  1824000000     8     2     8     4   \n",
       "136  3424000000  1712000000     4     2     8     2   \n",
       "137  6112000000  3056000000     4     2     8     2   \n",
       "247  5648000000  2824000000     4     2     8     2   \n",
       "..          ...         ...   ...   ...   ...   ...   \n",
       "138  3288000000  1644000000     6     2     6     4   \n",
       "139  4048000000  2024000000     4     2     8     2   \n",
       "140  3184000000  1592000000     4     2     8     2   \n",
       "109  2928000000  1464000000     4     2     8     2   \n",
       "309  4688000000  2344000000     4     2     8     2   \n",
       "\n",
       "                   out_dividers 84a90000.axi-jesd204-rx  \\\n",
       "154    10 / 12 / 12 / 384 / 384                disabled   \n",
       "134    24 / 24 / 30 / 768 / 768                disabled   \n",
       "136    12 / 12 / 30 / 384 / 384                disabled   \n",
       "137       5 / 8 / 8 / 256 / 256                disabled   \n",
       "247       5 / 8 / 8 / 256 / 256                disabled   \n",
       "..                          ...                     ...   \n",
       "138    18 / 18 / 30 / 576 / 576                 enabled   \n",
       "139   12 / 12 / 30 / 384 / 3456                 enabled   \n",
       "140     5 / 16 / 16 / 512 / 512                 enabled   \n",
       "109     5 / 16 / 16 / 512 / 512                 enabled   \n",
       "309    10 / 10 / 50 / 320 / 320                 enabled   \n",
       "\n",
       "    84b90000.axi-jesd204-tx  \n",
       "154                disabled  \n",
       "134                disabled  \n",
       "136                disabled  \n",
       "137                disabled  \n",
       "247                disabled  \n",
       "..                      ...  \n",
       "138                 enabled  \n",
       "139                 enabled  \n",
       "140                 enabled  \n",
       "109                 enabled  \n",
       "309                 enabled  \n",
       "\n",
       "[310 rows x 14 columns]"
      ]
     },
     "execution_count": 2,
     "metadata": {},
     "output_type": "execute_result"
    }
   ],
   "source": [
    "files = glob.glob(\"../logs/*.json\")\n",
    "\n",
    "results = []\n",
    "for file in files:\n",
    "    with open(file) as f:\n",
    "        data_ref = json.load(f)\n",
    "        data = {}\n",
    "        if 'cfg' not in data_ref:\n",
    "            continue\n",
    "        data['status'] = data_ref['status']\n",
    "        data['rx_lane_rate'] = data_ref['cfg']['jesd_adc']['bit_clock']\n",
    "        data['tx_lane_rate'] = data_ref['cfg']['jesd_dac']['bit_clock']\n",
    "        data['rx_sample_rate'] = data_ref['cfg']['jesd_adc']['sample_clock']\n",
    "        data['tx_sample_rate'] = data_ref['cfg']['jesd_dac']['sample_clock']\n",
    "        data['DAC_freq'] = data_ref['param_set']['DAC_freq']\n",
    "        for k in data_ref['param_set']:\n",
    "            data[k] = data_ref['param_set'][k]\n",
    "\n",
    "        # Merge clock dividers\n",
    "        od = data_ref['cfg']['clock']['out_dividers']\n",
    "        od.sort()\n",
    "        ods = ''\n",
    "        for i, k in enumerate(od):\n",
    "            ods += f\" / {k}\"\n",
    "\n",
    "        data[f\"out_dividers\"] = ods[2:]\n",
    "            \n",
    "        if 'jdevices_statuses' in data_ref:\n",
    "            ks = list(data_ref['jdevices_statuses'].keys())\n",
    "            data[ks[0]] = data_ref['jdevices_statuses'][ks[0]]['enabled']\n",
    "            data[ks[1]] = data_ref['jdevices_statuses'][ks[1]]['enabled']\n",
    "    results.append(data)\n",
    "\n",
    "df = pd.DataFrame(results, columns=results[0].keys())\n",
    "df.sort_values(by=['status'])"
   ]
  },
  {
   "cell_type": "markdown",
   "id": "594c5a07",
   "metadata": {},
   "source": [
    "## Plots of Link Enabled Pass/Fail at Boot"
   ]
  },
  {
   "cell_type": "code",
   "execution_count": 3,
   "id": "92aecd5f",
   "metadata": {},
   "outputs": [],
   "source": [
    "# Plot pass/fail over frequency\n",
    "results = df[['status','rx_sample_rate','ADC_freq','DAC_freq']]\n",
    "\n",
    "pc = pd.DataFrame(['passed']*len(results['status']),columns=['passed'])\n",
    "choices = [1,0]\n",
    "conditions = [results['status'] == pc['passed'],results['status'] != pc['passed']]\n",
    "\n",
    "out = list(np.select(conditions, choices))\n",
    "results = results.assign(passed = out);\n",
    "results.sort_values(by=['rx_sample_rate'], inplace=True)"
   ]
  },
  {
   "cell_type": "code",
   "execution_count": 4,
   "id": "57ce9e3c",
   "metadata": {},
   "outputs": [
    {
     "data": {
      "text/plain": [
       "[Text(0, 0, 'Failed'), Text(0, 1, 'Passed')]"
      ]
     },
     "execution_count": 4,
     "metadata": {},
     "output_type": "execute_result"
    },
    {
     "data": {
      "image/png": "[encoded data removed]",
      "text/plain": [
       "<Figure size 432x288 with 1 Axes>"
      ]
     },
     "metadata": {
      "needs_background": "light"
     },
     "output_type": "display_data"
    }
   ],
   "source": [
    "ax = results.plot(x='rx_sample_rate', y='passed')\n",
    "ax.set_yticks([0,1])\n",
    "ax.set_yticklabels((\"Failed\",\"Passed\"))"
   ]
  },
  {
   "cell_type": "code",
   "execution_count": 5,
   "id": "586d4dc7",
   "metadata": {},
   "outputs": [
    {
     "data": {
      "text/plain": [
       "[Text(0, 0, 'Failed'), Text(0, 1, 'Passed')]"
      ]
     },
     "execution_count": 5,
     "metadata": {},
     "output_type": "execute_result"
    },
    {
     "data": {
      "image/png": "[encoded data removed]",
      "text/plain": [
       "<Figure size 432x288 with 1 Axes>"
      ]
     },
     "metadata": {
      "needs_background": "light"
     },
     "output_type": "display_data"
    }
   ],
   "source": [
    "results.sort_values(by=['ADC_freq'], inplace=True)\n",
    "ax = results.plot(x='ADC_freq', y='passed')\n",
    "ax.set_yticks([0,1])\n",
    "ax.set_yticklabels((\"Failed\",\"Passed\"))"
   ]
  },
  {
   "cell_type": "code",
   "execution_count": 6,
   "id": "2dc7b3af",
   "metadata": {},
   "outputs": [
    {
     "data": {
      "text/plain": [
       "[Text(0, 0, 'Failed'), Text(0, 1, 'Passed')]"
      ]
     },
     "execution_count": 6,
     "metadata": {},
     "output_type": "execute_result"
    },
    {
     "data": {
      "image/png": "[encoded data removed]",
      "text/plain": [
       "<Figure size 432x288 with 1 Axes>"
      ]
     },
     "metadata": {
      "needs_background": "light"
     },
     "output_type": "display_data"
    }
   ],
   "source": [
    "results.sort_values(by=['DAC_freq'], inplace=True)\n",
    "ax = results.plot(x='DAC_freq', y='passed')\n",
    "ax.set_yticks([0,1])\n",
    "ax.set_yticklabels((\"Failed\",\"Passed\"))"
   ]
  },
  {
   "cell_type": "code",
   "execution_count": 7,
   "id": "666c69d7",
   "metadata": {},
   "outputs": [],
   "source": [
    "# Look at stacked trends\n",
    "\n",
    "# target = \"ADC_freq\"\n",
    "# df2 = df.groupby([target,'status'])['status'].count().unstack().fillna(0)\n",
    "# df2\n",
    "# df2.plot(kind='bar', stacked=True)"
   ]
  }
 ],
 "metadata": {
  "kernelspec": {
   "display_name": "Python 3.8.10 64-bit",
   "language": "python",
   "name": "python3810jvsc74a57bd0916dbcbb3f70747c44a77c7bcd40155683ae19c65e1c03b4aa3499c5328201f1"
  },
  "language_info": {
   "codemirror_mode": {
    "name": "ipython",
    "version": 3
   },
   "file_extension": ".py",
   "mimetype": "text/x-python",
   "name": "python",
   "nbconvert_exporter": "python",
   "pygments_lexer": "ipython3",
   "version": "3.8.10"
  }
 },
 "nbformat": 4,
 "nbformat_minor": 5
}
