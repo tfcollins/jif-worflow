{
 "cells": [
  {
   "cell_type": "markdown",
   "id": "74f91715",
   "metadata": {},
   "source": [
    "# Analysis of matched RX and TX rates across valid ranges\n",
    "\n",
    "This notebook analyzes the link status of samples rates from 100 MHz to 500 MHz, where both the TX and RX rates at the framers are the same. This is primarily looking for issues and/or patherns with the clocking configurations to determine if there are issues with JIF or another component in the system.\n",
    "\n",
    "To scale the sample rate from 100 MHz to 500 MHz, decimators, interpolators, ADC rate, and DAC rate are automatically determine to be within valid ranges.\n",
    "\n",
    "Details of the system:\n",
    "- Hardware: AD9081 + ZCU102\n",
    "- Linux master branch from 3/23/2022\n",
    "- HDL master branch from 3/23/2022\n",
    "- VCXO 122.88 MHz\n",
    "- TX JESD Mode 9, RX JESD Mode 10.00"
   ]
  },
  {
   "cell_type": "code",
   "execution_count": 1,
   "id": "172ff822",
   "metadata": {},
   "outputs": [],
   "source": [
    "import json\n",
    "import glob\n",
    "import pandas as pd\n",
    "from matplotlib import pyplot as plt\n",
    "import numpy as np\n",
    "#!pip install pyqt5\n",
    "%matplotlib inline"
   ]
  },
  {
   "cell_type": "markdown",
   "id": "18698077",
   "metadata": {},
   "source": [
    "## Import and filter data to extract desired log fields"
   ]
  },
  {
   "cell_type": "code",
   "execution_count": 2,
   "id": "685d76ae",
   "metadata": {},
   "outputs": [
    {
     "data": {
      "text/html": [
       "<div>\n",
       "<style scoped>\n",
       "    .dataframe tbody tr th:only-of-type {\n",
       "        vertical-align: middle;\n",
       "    }\n",
       "\n",
       "    .dataframe tbody tr th {\n",
       "        vertical-align: top;\n",
       "    }\n",
       "\n",
       "    .dataframe thead th {\n",
       "        text-align: right;\n",
       "    }\n",
       "</style>\n",
       "<table border=\"1\" class=\"dataframe\">\n",
       "  <thead>\n",
       "    <tr style=\"text-align: right;\">\n",
       "      <th></th>\n",
       "      <th>status</th>\n",
       "      <th>rx_lane_rate</th>\n",
       "      <th>tx_lane_rate</th>\n",
       "      <th>rx_sample_rate</th>\n",
       "      <th>tx_sample_rate</th>\n",
       "      <th>DAC_freq</th>\n",
       "      <th>ADC_freq</th>\n",
       "      <th>fddc</th>\n",
       "      <th>cddc</th>\n",
       "      <th>fduc</th>\n",
       "      <th>cduc</th>\n",
       "      <th>out_dividers</th>\n",
       "    </tr>\n",
       "  </thead>\n",
       "  <tbody>\n",
       "    <tr>\n",
       "      <th>0</th>\n",
       "      <td>failed</td>\n",
       "      <td>9.720000e+09</td>\n",
       "      <td>9.720000e+09</td>\n",
       "      <td>243000000</td>\n",
       "      <td>243000000</td>\n",
       "      <td>3888000000</td>\n",
       "      <td>1944000000</td>\n",
       "      <td>4</td>\n",
       "      <td>2</td>\n",
       "      <td>8</td>\n",
       "      <td>2</td>\n",
       "      <td>1 / 12 / 12 / 384 / 384</td>\n",
       "    </tr>\n",
       "    <tr>\n",
       "      <th>119</th>\n",
       "      <td>failed</td>\n",
       "      <td>1.460000e+10</td>\n",
       "      <td>1.460000e+10</td>\n",
       "      <td>365000000</td>\n",
       "      <td>365000000</td>\n",
       "      <td>5840000000</td>\n",
       "      <td>2920000000</td>\n",
       "      <td>4</td>\n",
       "      <td>2</td>\n",
       "      <td>8</td>\n",
       "      <td>2</td>\n",
       "      <td>5 / 8 / 8 / 256 / 256</td>\n",
       "    </tr>\n",
       "    <tr>\n",
       "      <th>117</th>\n",
       "      <td>failed</td>\n",
       "      <td>1.412000e+10</td>\n",
       "      <td>1.412000e+10</td>\n",
       "      <td>353000000</td>\n",
       "      <td>353000000</td>\n",
       "      <td>5648000000</td>\n",
       "      <td>2824000000</td>\n",
       "      <td>4</td>\n",
       "      <td>2</td>\n",
       "      <td>8</td>\n",
       "      <td>2</td>\n",
       "      <td>5 / 8 / 8 / 256 / 256</td>\n",
       "    </tr>\n",
       "    <tr>\n",
       "      <th>116</th>\n",
       "      <td>failed</td>\n",
       "      <td>1.400000e+10</td>\n",
       "      <td>1.400000e+10</td>\n",
       "      <td>350000000</td>\n",
       "      <td>350000000</td>\n",
       "      <td>5600000000</td>\n",
       "      <td>2800000000</td>\n",
       "      <td>4</td>\n",
       "      <td>2</td>\n",
       "      <td>8</td>\n",
       "      <td>2</td>\n",
       "      <td>5 / 8 / 8 / 256 / 256</td>\n",
       "    </tr>\n",
       "    <tr>\n",
       "      <th>113</th>\n",
       "      <td>failed</td>\n",
       "      <td>1.432000e+10</td>\n",
       "      <td>1.432000e+10</td>\n",
       "      <td>358000000</td>\n",
       "      <td>358000000</td>\n",
       "      <td>5728000000</td>\n",
       "      <td>2864000000</td>\n",
       "      <td>4</td>\n",
       "      <td>2</td>\n",
       "      <td>8</td>\n",
       "      <td>2</td>\n",
       "      <td>5 / 8 / 8 / 256 / 256</td>\n",
       "    </tr>\n",
       "    <tr>\n",
       "      <th>...</th>\n",
       "      <td>...</td>\n",
       "      <td>...</td>\n",
       "      <td>...</td>\n",
       "      <td>...</td>\n",
       "      <td>...</td>\n",
       "      <td>...</td>\n",
       "      <td>...</td>\n",
       "      <td>...</td>\n",
       "      <td>...</td>\n",
       "      <td>...</td>\n",
       "      <td>...</td>\n",
       "      <td>...</td>\n",
       "    </tr>\n",
       "    <tr>\n",
       "      <th>140</th>\n",
       "      <td>passed</td>\n",
       "      <td>8.000000e+09</td>\n",
       "      <td>8.000000e+09</td>\n",
       "      <td>200000000</td>\n",
       "      <td>200000000</td>\n",
       "      <td>3200000000</td>\n",
       "      <td>1600000000</td>\n",
       "      <td>4</td>\n",
       "      <td>2</td>\n",
       "      <td>8</td>\n",
       "      <td>2</td>\n",
       "      <td>5 / 16 / 16 / 512 / 512</td>\n",
       "    </tr>\n",
       "    <tr>\n",
       "      <th>143</th>\n",
       "      <td>passed</td>\n",
       "      <td>1.040000e+10</td>\n",
       "      <td>1.040000e+10</td>\n",
       "      <td>260000000</td>\n",
       "      <td>260000000</td>\n",
       "      <td>4160000000</td>\n",
       "      <td>2080000000</td>\n",
       "      <td>4</td>\n",
       "      <td>2</td>\n",
       "      <td>8</td>\n",
       "      <td>2</td>\n",
       "      <td>6 / 12 / 12 / 384 / 1536</td>\n",
       "    </tr>\n",
       "    <tr>\n",
       "      <th>22</th>\n",
       "      <td>passed</td>\n",
       "      <td>1.012000e+10</td>\n",
       "      <td>1.012000e+10</td>\n",
       "      <td>253000000</td>\n",
       "      <td>253000000</td>\n",
       "      <td>4048000000</td>\n",
       "      <td>2024000000</td>\n",
       "      <td>4</td>\n",
       "      <td>2</td>\n",
       "      <td>8</td>\n",
       "      <td>2</td>\n",
       "      <td>12 / 12 / 30 / 384 / 3456</td>\n",
       "    </tr>\n",
       "    <tr>\n",
       "      <th>20</th>\n",
       "      <td>passed</td>\n",
       "      <td>1.112000e+10</td>\n",
       "      <td>1.112000e+10</td>\n",
       "      <td>278000000</td>\n",
       "      <td>278000000</td>\n",
       "      <td>4448000000</td>\n",
       "      <td>2224000000</td>\n",
       "      <td>4</td>\n",
       "      <td>2</td>\n",
       "      <td>8</td>\n",
       "      <td>2</td>\n",
       "      <td>10 / 10 / 50 / 320 / 320</td>\n",
       "    </tr>\n",
       "    <tr>\n",
       "      <th>180</th>\n",
       "      <td>passed</td>\n",
       "      <td>1.104000e+10</td>\n",
       "      <td>1.104000e+10</td>\n",
       "      <td>276000000</td>\n",
       "      <td>276000000</td>\n",
       "      <td>4416000000</td>\n",
       "      <td>2208000000</td>\n",
       "      <td>4</td>\n",
       "      <td>2</td>\n",
       "      <td>8</td>\n",
       "      <td>2</td>\n",
       "      <td>10 / 10 / 50 / 320 / 320</td>\n",
       "    </tr>\n",
       "  </tbody>\n",
       "</table>\n",
       "<p>181 rows × 12 columns</p>\n",
       "</div>"
      ],
      "text/plain": [
       "     status  rx_lane_rate  tx_lane_rate  rx_sample_rate  tx_sample_rate  \\\n",
       "0    failed  9.720000e+09  9.720000e+09       243000000       243000000   \n",
       "119  failed  1.460000e+10  1.460000e+10       365000000       365000000   \n",
       "117  failed  1.412000e+10  1.412000e+10       353000000       353000000   \n",
       "116  failed  1.400000e+10  1.400000e+10       350000000       350000000   \n",
       "113  failed  1.432000e+10  1.432000e+10       358000000       358000000   \n",
       "..      ...           ...           ...             ...             ...   \n",
       "140  passed  8.000000e+09  8.000000e+09       200000000       200000000   \n",
       "143  passed  1.040000e+10  1.040000e+10       260000000       260000000   \n",
       "22   passed  1.012000e+10  1.012000e+10       253000000       253000000   \n",
       "20   passed  1.112000e+10  1.112000e+10       278000000       278000000   \n",
       "180  passed  1.104000e+10  1.104000e+10       276000000       276000000   \n",
       "\n",
       "       DAC_freq    ADC_freq  fddc  cddc  fduc  cduc  \\\n",
       "0    3888000000  1944000000     4     2     8     2   \n",
       "119  5840000000  2920000000     4     2     8     2   \n",
       "117  5648000000  2824000000     4     2     8     2   \n",
       "116  5600000000  2800000000     4     2     8     2   \n",
       "113  5728000000  2864000000     4     2     8     2   \n",
       "..          ...         ...   ...   ...   ...   ...   \n",
       "140  3200000000  1600000000     4     2     8     2   \n",
       "143  4160000000  2080000000     4     2     8     2   \n",
       "22   4048000000  2024000000     4     2     8     2   \n",
       "20   4448000000  2224000000     4     2     8     2   \n",
       "180  4416000000  2208000000     4     2     8     2   \n",
       "\n",
       "                   out_dividers  \n",
       "0       1 / 12 / 12 / 384 / 384  \n",
       "119       5 / 8 / 8 / 256 / 256  \n",
       "117       5 / 8 / 8 / 256 / 256  \n",
       "116       5 / 8 / 8 / 256 / 256  \n",
       "113       5 / 8 / 8 / 256 / 256  \n",
       "..                          ...  \n",
       "140     5 / 16 / 16 / 512 / 512  \n",
       "143    6 / 12 / 12 / 384 / 1536  \n",
       "22    12 / 12 / 30 / 384 / 3456  \n",
       "20     10 / 10 / 50 / 320 / 320  \n",
       "180    10 / 10 / 50 / 320 / 320  \n",
       "\n",
       "[181 rows x 12 columns]"
      ]
     },
     "execution_count": 2,
     "metadata": {},
     "output_type": "execute_result"
    }
   ],
   "source": [
    "files = glob.glob(\"../logs/*.json\")\n",
    "\n",
    "results = []\n",
    "for file in files:\n",
    "    with open(file) as f:\n",
    "        data_ref = json.load(f)\n",
    "        data = {}\n",
    "        if 'cfg' not in data_ref:\n",
    "            continue\n",
    "        data['status'] = data_ref['status']\n",
    "        data['rx_lane_rate'] = data_ref['cfg']['jesd_adc']['bit_clock']\n",
    "        data['tx_lane_rate'] = data_ref['cfg']['jesd_dac']['bit_clock']\n",
    "        data['rx_sample_rate'] = data_ref['cfg']['jesd_adc']['sample_clock']\n",
    "        data['tx_sample_rate'] = data_ref['cfg']['jesd_dac']['sample_clock']\n",
    "        data['DAC_freq'] = data_ref['param_set']['DAC_freq']\n",
    "        for k in data_ref['param_set']:\n",
    "            data[k] = data_ref['param_set'][k]\n",
    "\n",
    "        # Merge clock dividers\n",
    "        od = data_ref['cfg']['clock']['out_dividers']\n",
    "        od.sort()\n",
    "        ods = ''\n",
    "        for i, k in enumerate(od):\n",
    "            ods += f\" / {k}\"\n",
    "\n",
    "        data[f\"out_dividers\"] = ods[2:]\n",
    "            \n",
    "        if 'jdevices_statuses' in data_ref:\n",
    "            ks = list(data_ref['jdevices_statuses'].keys())\n",
    "            data[ks[0]] = data_ref['jdevices_statuses'][ks[0]]['enabled']\n",
    "            data[ks[1]] = data_ref['jdevices_statuses'][ks[1]]['enabled']\n",
    "    results.append(data)\n",
    "\n",
    "df = pd.DataFrame(results, columns=results[0].keys())\n",
    "df.sort_values(by=['status'])"
   ]
  },
  {
   "cell_type": "markdown",
   "id": "594c5a07",
   "metadata": {},
   "source": [
    "## Plots of Link Enabled Pass/Fail at Boot"
   ]
  },
  {
   "cell_type": "code",
   "execution_count": 3,
   "id": "92aecd5f",
   "metadata": {},
   "outputs": [],
   "source": [
    "# Plot pass/fail over frequency\n",
    "results = df[['status','rx_sample_rate','ADC_freq','DAC_freq']]\n",
    "\n",
    "pc = pd.DataFrame(['passed']*len(results['status']),columns=['passed'])\n",
    "choices = [1,0]\n",
    "conditions = [results['status'] == pc['passed'],results['status'] != pc['passed']]\n",
    "\n",
    "out = list(np.select(conditions, choices))\n",
    "results = results.assign(passed = out);\n",
    "results.sort_values(by=['rx_sample_rate'], inplace=True)"
   ]
  },
  {
   "cell_type": "code",
   "execution_count": 4,
   "id": "57ce9e3c",
   "metadata": {},
   "outputs": [
    {
     "data": {
      "text/plain": [
       "[Text(0, 0, 'Failed'), Text(0, 1, 'Passed')]"
      ]
     },
     "execution_count": 4,
     "metadata": {},
     "output_type": "execute_result"
    },
    {
     "data": {
      "image/png": "[encoded data removed]",
      "text/plain": [
       "<Figure size 432x288 with 1 Axes>"
      ]
     },
     "metadata": {
      "needs_background": "light"
     },
     "output_type": "display_data"
    }
   ],
   "source": [
    "ax = results.plot(x='rx_sample_rate', y='passed')\n",
    "ax.set_yticks([0,1])\n",
    "ax.set_yticklabels((\"Failed\",\"Passed\"))"
   ]
  },
  {
   "cell_type": "code",
   "execution_count": 5,
   "id": "586d4dc7",
   "metadata": {},
   "outputs": [
    {
     "data": {
      "text/plain": [
       "[Text(0, 0, 'Failed'), Text(0, 1, 'Passed')]"
      ]
     },
     "execution_count": 5,
     "metadata": {},
     "output_type": "execute_result"
    },
    {
     "data": {
      "image/png": "[encoded data removed]",
      "text/plain": [
       "<Figure size 432x288 with 1 Axes>"
      ]
     },
     "metadata": {
      "needs_background": "light"
     },
     "output_type": "display_data"
    }
   ],
   "source": [
    "results.sort_values(by=['ADC_freq'], inplace=True)\n",
    "ax = results.plot(x='ADC_freq', y='passed')\n",
    "ax.set_yticks([0,1])\n",
    "ax.set_yticklabels((\"Failed\",\"Passed\"))"
   ]
  },
  {
   "cell_type": "code",
   "execution_count": 6,
   "id": "2dc7b3af",
   "metadata": {},
   "outputs": [
    {
     "data": {
      "text/plain": [
       "[Text(0, 0, 'Failed'), Text(0, 1, 'Passed')]"
      ]
     },
     "execution_count": 6,
     "metadata": {},
     "output_type": "execute_result"
    },
    {
     "data": {
      "image/png": "[encoded data removed]",
      "text/plain": [
       "<Figure size 432x288 with 1 Axes>"
      ]
     },
     "metadata": {
      "needs_background": "light"
     },
     "output_type": "display_data"
    }
   ],
   "source": [
    "results.sort_values(by=['DAC_freq'], inplace=True)\n",
    "ax = results.plot(x='DAC_freq', y='passed')\n",
    "ax.set_yticks([0,1])\n",
    "ax.set_yticklabels((\"Failed\",\"Passed\"))"
   ]
  },
  {
   "cell_type": "code",
   "execution_count": 7,
   "id": "666c69d7",
   "metadata": {},
   "outputs": [],
   "source": [
    "# Look at stacked trends\n",
    "\n",
    "# target = \"ADC_freq\"\n",
    "# df2 = df.groupby([target,'status'])['status'].count().unstack().fillna(0)\n",
    "# df2\n",
    "# df2.plot(kind='bar', stacked=True)"
   ]
  }
 ],
 "metadata": {
  "kernelspec": {
   "display_name": "Python 3.8.10 64-bit",
   "language": "python",
   "name": "python3810jvsc74a57bd0916dbcbb3f70747c44a77c7bcd40155683ae19c65e1c03b4aa3499c5328201f1"
  },
  "language_info": {
   "codemirror_mode": {
    "name": "ipython",
    "version": 3
   },
   "file_extension": ".py",
   "mimetype": "text/x-python",
   "name": "python",
   "nbconvert_exporter": "python",
   "pygments_lexer": "ipython3",
   "version": "3.8.10"
  }
 },
 "nbformat": 4,
 "nbformat_minor": 5
}
